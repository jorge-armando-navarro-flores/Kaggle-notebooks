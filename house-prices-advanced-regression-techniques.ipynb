{
 "cells": [
  {
   "cell_type": "markdown",
   "id": "6da0fb29",
   "metadata": {
    "papermill": {
     "duration": 0.008293,
     "end_time": "2023-12-18T00:09:57.434467",
     "exception": false,
     "start_time": "2023-12-18T00:09:57.426174",
     "status": "completed"
    },
    "tags": []
   },
   "source": [
    "# Setup"
   ]
  },
  {
   "cell_type": "code",
   "execution_count": 1,
   "id": "0b94c730",
   "metadata": {
    "_cell_guid": "b1076dfc-b9ad-4769-8c92-a6c4dae69d19",
    "_uuid": "8f2839f25d086af736a60e9eeb907d3b93b6e0e5",
    "execution": {
     "iopub.execute_input": "2023-12-18T00:09:57.452278Z",
     "iopub.status.busy": "2023-12-18T00:09:57.451749Z",
     "iopub.status.idle": "2023-12-18T00:09:57.468507Z",
     "shell.execute_reply": "2023-12-18T00:09:57.467099Z"
    },
    "papermill": {
     "duration": 0.028403,
     "end_time": "2023-12-18T00:09:57.470772",
     "exception": false,
     "start_time": "2023-12-18T00:09:57.442369",
     "status": "completed"
    },
    "tags": []
   },
   "outputs": [
    {
     "name": "stdout",
     "output_type": "stream",
     "text": [
      "/kaggle/input/house-prices-advanced-regression-techniques/sample_submission.csv\n",
      "/kaggle/input/house-prices-advanced-regression-techniques/data_description.txt\n",
      "/kaggle/input/house-prices-advanced-regression-techniques/train.csv\n",
      "/kaggle/input/house-prices-advanced-regression-techniques/test.csv\n"
     ]
    }
   ],
   "source": [
    "import os\n",
    "for dirname, _, filenames in os.walk('/kaggle/input'):\n",
    "    for filename in filenames:\n",
    "        print(os.path.join(dirname, filename))"
   ]
  },
  {
   "cell_type": "markdown",
   "id": "049521ce",
   "metadata": {
    "papermill": {
     "duration": 0.007991,
     "end_time": "2023-12-18T00:09:57.486755",
     "exception": false,
     "start_time": "2023-12-18T00:09:57.478764",
     "status": "completed"
    },
    "tags": []
   },
   "source": [
    "## Import helpful libraries"
   ]
  },
  {
   "cell_type": "code",
   "execution_count": 2,
   "id": "de89713f",
   "metadata": {
    "execution": {
     "iopub.execute_input": "2023-12-18T00:09:57.506483Z",
     "iopub.status.busy": "2023-12-18T00:09:57.506031Z",
     "iopub.status.idle": "2023-12-18T00:10:00.437440Z",
     "shell.execute_reply": "2023-12-18T00:10:00.436102Z"
    },
    "papermill": {
     "duration": 2.944966,
     "end_time": "2023-12-18T00:10:00.441064",
     "exception": false,
     "start_time": "2023-12-18T00:09:57.496098",
     "status": "completed"
    },
    "tags": []
   },
   "outputs": [],
   "source": [
    "# Import helpful libraries\n",
    "import pandas as pd\n",
    "from sklearn.ensemble import RandomForestRegressor\n",
    "from sklearn.metrics import mean_absolute_error\n",
    "from sklearn.model_selection import train_test_split"
   ]
  },
  {
   "cell_type": "markdown",
   "id": "b958ea3a",
   "metadata": {
    "papermill": {
     "duration": 0.0102,
     "end_time": "2023-12-18T00:10:00.459976",
     "exception": false,
     "start_time": "2023-12-18T00:10:00.449776",
     "status": "completed"
    },
    "tags": []
   },
   "source": [
    "# Train a model with train data"
   ]
  },
  {
   "cell_type": "markdown",
   "id": "f72d683d",
   "metadata": {
    "papermill": {
     "duration": 0.010223,
     "end_time": "2023-12-18T00:10:00.482164",
     "exception": false,
     "start_time": "2023-12-18T00:10:00.471941",
     "status": "completed"
    },
    "tags": []
   },
   "source": [
    "## Load the data, and separate the target"
   ]
  },
  {
   "cell_type": "code",
   "execution_count": 3,
   "id": "e7851d2d",
   "metadata": {
    "execution": {
     "iopub.execute_input": "2023-12-18T00:10:00.510727Z",
     "iopub.status.busy": "2023-12-18T00:10:00.508994Z",
     "iopub.status.idle": "2023-12-18T00:10:00.583143Z",
     "shell.execute_reply": "2023-12-18T00:10:00.581873Z"
    },
    "papermill": {
     "duration": 0.090816,
     "end_time": "2023-12-18T00:10:00.586510",
     "exception": false,
     "start_time": "2023-12-18T00:10:00.495694",
     "status": "completed"
    },
    "tags": []
   },
   "outputs": [],
   "source": [
    "# Load the data, and separate the target\n",
    "iowa_file_path = '../input/house-prices-advanced-regression-techniques/train.csv'\n",
    "home_data = pd.read_csv(iowa_file_path)\n",
    "y = home_data.SalePrice"
   ]
  },
  {
   "cell_type": "markdown",
   "id": "4a0cefd5",
   "metadata": {
    "papermill": {
     "duration": 0.011185,
     "end_time": "2023-12-18T00:10:00.606333",
     "exception": false,
     "start_time": "2023-12-18T00:10:00.595148",
     "status": "completed"
    },
    "tags": []
   },
   "source": [
    "## Create X with selected features"
   ]
  },
  {
   "cell_type": "code",
   "execution_count": 4,
   "id": "1bfb4b30",
   "metadata": {
    "execution": {
     "iopub.execute_input": "2023-12-18T00:10:00.629193Z",
     "iopub.status.busy": "2023-12-18T00:10:00.627911Z",
     "iopub.status.idle": "2023-12-18T00:10:00.669079Z",
     "shell.execute_reply": "2023-12-18T00:10:00.666682Z"
    },
    "papermill": {
     "duration": 0.057341,
     "end_time": "2023-12-18T00:10:00.673179",
     "exception": false,
     "start_time": "2023-12-18T00:10:00.615838",
     "status": "completed"
    },
    "tags": []
   },
   "outputs": [
    {
     "data": {
      "text/html": [
       "<div>\n",
       "<style scoped>\n",
       "    .dataframe tbody tr th:only-of-type {\n",
       "        vertical-align: middle;\n",
       "    }\n",
       "\n",
       "    .dataframe tbody tr th {\n",
       "        vertical-align: top;\n",
       "    }\n",
       "\n",
       "    .dataframe thead th {\n",
       "        text-align: right;\n",
       "    }\n",
       "</style>\n",
       "<table border=\"1\" class=\"dataframe\">\n",
       "  <thead>\n",
       "    <tr style=\"text-align: right;\">\n",
       "      <th></th>\n",
       "      <th>LotArea</th>\n",
       "      <th>YearBuilt</th>\n",
       "      <th>1stFlrSF</th>\n",
       "      <th>2ndFlrSF</th>\n",
       "      <th>FullBath</th>\n",
       "      <th>BedroomAbvGr</th>\n",
       "      <th>TotRmsAbvGrd</th>\n",
       "    </tr>\n",
       "  </thead>\n",
       "  <tbody>\n",
       "    <tr>\n",
       "      <th>0</th>\n",
       "      <td>8450</td>\n",
       "      <td>2003</td>\n",
       "      <td>856</td>\n",
       "      <td>854</td>\n",
       "      <td>2</td>\n",
       "      <td>3</td>\n",
       "      <td>8</td>\n",
       "    </tr>\n",
       "    <tr>\n",
       "      <th>1</th>\n",
       "      <td>9600</td>\n",
       "      <td>1976</td>\n",
       "      <td>1262</td>\n",
       "      <td>0</td>\n",
       "      <td>2</td>\n",
       "      <td>3</td>\n",
       "      <td>6</td>\n",
       "    </tr>\n",
       "    <tr>\n",
       "      <th>2</th>\n",
       "      <td>11250</td>\n",
       "      <td>2001</td>\n",
       "      <td>920</td>\n",
       "      <td>866</td>\n",
       "      <td>2</td>\n",
       "      <td>3</td>\n",
       "      <td>6</td>\n",
       "    </tr>\n",
       "    <tr>\n",
       "      <th>3</th>\n",
       "      <td>9550</td>\n",
       "      <td>1915</td>\n",
       "      <td>961</td>\n",
       "      <td>756</td>\n",
       "      <td>1</td>\n",
       "      <td>3</td>\n",
       "      <td>7</td>\n",
       "    </tr>\n",
       "    <tr>\n",
       "      <th>4</th>\n",
       "      <td>14260</td>\n",
       "      <td>2000</td>\n",
       "      <td>1145</td>\n",
       "      <td>1053</td>\n",
       "      <td>2</td>\n",
       "      <td>4</td>\n",
       "      <td>9</td>\n",
       "    </tr>\n",
       "  </tbody>\n",
       "</table>\n",
       "</div>"
      ],
      "text/plain": [
       "   LotArea  YearBuilt  1stFlrSF  2ndFlrSF  FullBath  BedroomAbvGr  \\\n",
       "0     8450       2003       856       854         2             3   \n",
       "1     9600       1976      1262         0         2             3   \n",
       "2    11250       2001       920       866         2             3   \n",
       "3     9550       1915       961       756         1             3   \n",
       "4    14260       2000      1145      1053         2             4   \n",
       "\n",
       "   TotRmsAbvGrd  \n",
       "0             8  \n",
       "1             6  \n",
       "2             6  \n",
       "3             7  \n",
       "4             9  "
      ]
     },
     "execution_count": 4,
     "metadata": {},
     "output_type": "execute_result"
    }
   ],
   "source": [
    "# Create X (After completing the exercise, you can return to modify this line!)\n",
    "features = ['LotArea', 'YearBuilt', '1stFlrSF', '2ndFlrSF', 'FullBath', 'BedroomAbvGr', 'TotRmsAbvGrd']\n",
    "\n",
    "# Select columns corresponding to features, and preview the data\n",
    "X = home_data[features]\n",
    "X.head()"
   ]
  },
  {
   "cell_type": "markdown",
   "id": "cda62330",
   "metadata": {
    "papermill": {
     "duration": 0.015565,
     "end_time": "2023-12-18T00:10:00.700829",
     "exception": false,
     "start_time": "2023-12-18T00:10:00.685264",
     "status": "completed"
    },
    "tags": []
   },
   "source": [
    "## Split into validation and training data"
   ]
  },
  {
   "cell_type": "code",
   "execution_count": 5,
   "id": "69a4b223",
   "metadata": {
    "execution": {
     "iopub.execute_input": "2023-12-18T00:10:00.731037Z",
     "iopub.status.busy": "2023-12-18T00:10:00.730036Z",
     "iopub.status.idle": "2023-12-18T00:10:00.739572Z",
     "shell.execute_reply": "2023-12-18T00:10:00.738080Z"
    },
    "papermill": {
     "duration": 0.026396,
     "end_time": "2023-12-18T00:10:00.742959",
     "exception": false,
     "start_time": "2023-12-18T00:10:00.716563",
     "status": "completed"
    },
    "tags": []
   },
   "outputs": [],
   "source": [
    "# Split into validation and training data\n",
    "train_X, val_X, train_y, val_y = train_test_split(X, y, random_state=1)"
   ]
  },
  {
   "cell_type": "markdown",
   "id": "68a277e9",
   "metadata": {
    "papermill": {
     "duration": 0.008986,
     "end_time": "2023-12-18T00:10:00.762790",
     "exception": false,
     "start_time": "2023-12-18T00:10:00.753804",
     "status": "completed"
    },
    "tags": []
   },
   "source": [
    "## Define the model"
   ]
  },
  {
   "cell_type": "code",
   "execution_count": 6,
   "id": "f10dfbb2",
   "metadata": {
    "execution": {
     "iopub.execute_input": "2023-12-18T00:10:00.784167Z",
     "iopub.status.busy": "2023-12-18T00:10:00.783328Z",
     "iopub.status.idle": "2023-12-18T00:10:01.361886Z",
     "shell.execute_reply": "2023-12-18T00:10:01.360209Z"
    },
    "papermill": {
     "duration": 0.592414,
     "end_time": "2023-12-18T00:10:01.364793",
     "exception": false,
     "start_time": "2023-12-18T00:10:00.772379",
     "status": "completed"
    },
    "tags": []
   },
   "outputs": [
    {
     "data": {
      "text/html": [
       "<style>#sk-container-id-1 {color: black;background-color: white;}#sk-container-id-1 pre{padding: 0;}#sk-container-id-1 div.sk-toggleable {background-color: white;}#sk-container-id-1 label.sk-toggleable__label {cursor: pointer;display: block;width: 100%;margin-bottom: 0;padding: 0.3em;box-sizing: border-box;text-align: center;}#sk-container-id-1 label.sk-toggleable__label-arrow:before {content: \"▸\";float: left;margin-right: 0.25em;color: #696969;}#sk-container-id-1 label.sk-toggleable__label-arrow:hover:before {color: black;}#sk-container-id-1 div.sk-estimator:hover label.sk-toggleable__label-arrow:before {color: black;}#sk-container-id-1 div.sk-toggleable__content {max-height: 0;max-width: 0;overflow: hidden;text-align: left;background-color: #f0f8ff;}#sk-container-id-1 div.sk-toggleable__content pre {margin: 0.2em;color: black;border-radius: 0.25em;background-color: #f0f8ff;}#sk-container-id-1 input.sk-toggleable__control:checked~div.sk-toggleable__content {max-height: 200px;max-width: 100%;overflow: auto;}#sk-container-id-1 input.sk-toggleable__control:checked~label.sk-toggleable__label-arrow:before {content: \"▾\";}#sk-container-id-1 div.sk-estimator input.sk-toggleable__control:checked~label.sk-toggleable__label {background-color: #d4ebff;}#sk-container-id-1 div.sk-label input.sk-toggleable__control:checked~label.sk-toggleable__label {background-color: #d4ebff;}#sk-container-id-1 input.sk-hidden--visually {border: 0;clip: rect(1px 1px 1px 1px);clip: rect(1px, 1px, 1px, 1px);height: 1px;margin: -1px;overflow: hidden;padding: 0;position: absolute;width: 1px;}#sk-container-id-1 div.sk-estimator {font-family: monospace;background-color: #f0f8ff;border: 1px dotted black;border-radius: 0.25em;box-sizing: border-box;margin-bottom: 0.5em;}#sk-container-id-1 div.sk-estimator:hover {background-color: #d4ebff;}#sk-container-id-1 div.sk-parallel-item::after {content: \"\";width: 100%;border-bottom: 1px solid gray;flex-grow: 1;}#sk-container-id-1 div.sk-label:hover label.sk-toggleable__label {background-color: #d4ebff;}#sk-container-id-1 div.sk-serial::before {content: \"\";position: absolute;border-left: 1px solid gray;box-sizing: border-box;top: 0;bottom: 0;left: 50%;z-index: 0;}#sk-container-id-1 div.sk-serial {display: flex;flex-direction: column;align-items: center;background-color: white;padding-right: 0.2em;padding-left: 0.2em;position: relative;}#sk-container-id-1 div.sk-item {position: relative;z-index: 1;}#sk-container-id-1 div.sk-parallel {display: flex;align-items: stretch;justify-content: center;background-color: white;position: relative;}#sk-container-id-1 div.sk-item::before, #sk-container-id-1 div.sk-parallel-item::before {content: \"\";position: absolute;border-left: 1px solid gray;box-sizing: border-box;top: 0;bottom: 0;left: 50%;z-index: -1;}#sk-container-id-1 div.sk-parallel-item {display: flex;flex-direction: column;z-index: 1;position: relative;background-color: white;}#sk-container-id-1 div.sk-parallel-item:first-child::after {align-self: flex-end;width: 50%;}#sk-container-id-1 div.sk-parallel-item:last-child::after {align-self: flex-start;width: 50%;}#sk-container-id-1 div.sk-parallel-item:only-child::after {width: 0;}#sk-container-id-1 div.sk-dashed-wrapped {border: 1px dashed gray;margin: 0 0.4em 0.5em 0.4em;box-sizing: border-box;padding-bottom: 0.4em;background-color: white;}#sk-container-id-1 div.sk-label label {font-family: monospace;font-weight: bold;display: inline-block;line-height: 1.2em;}#sk-container-id-1 div.sk-label-container {text-align: center;}#sk-container-id-1 div.sk-container {/* jupyter's `normalize.less` sets `[hidden] { display: none; }` but bootstrap.min.css set `[hidden] { display: none !important; }` so we also need the `!important` here to be able to override the default hidden behavior on the sphinx rendered scikit-learn.org. See: https://github.com/scikit-learn/scikit-learn/issues/21755 */display: inline-block !important;position: relative;}#sk-container-id-1 div.sk-text-repr-fallback {display: none;}</style><div id=\"sk-container-id-1\" class=\"sk-top-container\"><div class=\"sk-text-repr-fallback\"><pre>RandomForestRegressor(random_state=1)</pre><b>In a Jupyter environment, please rerun this cell to show the HTML representation or trust the notebook. <br />On GitHub, the HTML representation is unable to render, please try loading this page with nbviewer.org.</b></div><div class=\"sk-container\" hidden><div class=\"sk-item\"><div class=\"sk-estimator sk-toggleable\"><input class=\"sk-toggleable__control sk-hidden--visually\" id=\"sk-estimator-id-1\" type=\"checkbox\" checked><label for=\"sk-estimator-id-1\" class=\"sk-toggleable__label sk-toggleable__label-arrow\">RandomForestRegressor</label><div class=\"sk-toggleable__content\"><pre>RandomForestRegressor(random_state=1)</pre></div></div></div></div></div>"
      ],
      "text/plain": [
       "RandomForestRegressor(random_state=1)"
      ]
     },
     "execution_count": 6,
     "metadata": {},
     "output_type": "execute_result"
    }
   ],
   "source": [
    "# Define a random forest model\n",
    "rf_model = RandomForestRegressor(random_state=1)\n",
    "# Train the model\n",
    "rf_model.fit(train_X, train_y)"
   ]
  },
  {
   "cell_type": "markdown",
   "id": "5f7062b4",
   "metadata": {
    "papermill": {
     "duration": 0.008169,
     "end_time": "2023-12-18T00:10:01.381522",
     "exception": false,
     "start_time": "2023-12-18T00:10:01.373353",
     "status": "completed"
    },
    "tags": []
   },
   "source": [
    "## Evaluate the model"
   ]
  },
  {
   "cell_type": "code",
   "execution_count": 7,
   "id": "62f0d2fb",
   "metadata": {
    "execution": {
     "iopub.execute_input": "2023-12-18T00:10:01.401415Z",
     "iopub.status.busy": "2023-12-18T00:10:01.400949Z",
     "iopub.status.idle": "2023-12-18T00:10:01.427248Z",
     "shell.execute_reply": "2023-12-18T00:10:01.425366Z"
    },
    "papermill": {
     "duration": 0.039924,
     "end_time": "2023-12-18T00:10:01.430207",
     "exception": false,
     "start_time": "2023-12-18T00:10:01.390283",
     "status": "completed"
    },
    "tags": []
   },
   "outputs": [
    {
     "name": "stdout",
     "output_type": "stream",
     "text": [
      "Validation MAE for Random Forest Model: 21,857\n"
     ]
    }
   ],
   "source": [
    "rf_val_predictions = rf_model.predict(val_X)\n",
    "rf_val_mae = mean_absolute_error(rf_val_predictions, val_y)\n",
    "\n",
    "print(\"Validation MAE for Random Forest Model: {:,.0f}\".format(rf_val_mae))"
   ]
  },
  {
   "cell_type": "markdown",
   "id": "dc654614",
   "metadata": {
    "papermill": {
     "duration": 0.008732,
     "end_time": "2023-12-18T00:10:01.448537",
     "exception": false,
     "start_time": "2023-12-18T00:10:01.439805",
     "status": "completed"
    },
    "tags": []
   },
   "source": [
    "# Train a model for the competition (full data)"
   ]
  },
  {
   "cell_type": "code",
   "execution_count": 8,
   "id": "f222547b",
   "metadata": {
    "execution": {
     "iopub.execute_input": "2023-12-18T00:10:01.467783Z",
     "iopub.status.busy": "2023-12-18T00:10:01.467385Z",
     "iopub.status.idle": "2023-12-18T00:10:02.149668Z",
     "shell.execute_reply": "2023-12-18T00:10:02.148397Z"
    },
    "papermill": {
     "duration": 0.695238,
     "end_time": "2023-12-18T00:10:02.152617",
     "exception": false,
     "start_time": "2023-12-18T00:10:01.457379",
     "status": "completed"
    },
    "tags": []
   },
   "outputs": [
    {
     "data": {
      "text/html": [
       "<style>#sk-container-id-2 {color: black;background-color: white;}#sk-container-id-2 pre{padding: 0;}#sk-container-id-2 div.sk-toggleable {background-color: white;}#sk-container-id-2 label.sk-toggleable__label {cursor: pointer;display: block;width: 100%;margin-bottom: 0;padding: 0.3em;box-sizing: border-box;text-align: center;}#sk-container-id-2 label.sk-toggleable__label-arrow:before {content: \"▸\";float: left;margin-right: 0.25em;color: #696969;}#sk-container-id-2 label.sk-toggleable__label-arrow:hover:before {color: black;}#sk-container-id-2 div.sk-estimator:hover label.sk-toggleable__label-arrow:before {color: black;}#sk-container-id-2 div.sk-toggleable__content {max-height: 0;max-width: 0;overflow: hidden;text-align: left;background-color: #f0f8ff;}#sk-container-id-2 div.sk-toggleable__content pre {margin: 0.2em;color: black;border-radius: 0.25em;background-color: #f0f8ff;}#sk-container-id-2 input.sk-toggleable__control:checked~div.sk-toggleable__content {max-height: 200px;max-width: 100%;overflow: auto;}#sk-container-id-2 input.sk-toggleable__control:checked~label.sk-toggleable__label-arrow:before {content: \"▾\";}#sk-container-id-2 div.sk-estimator input.sk-toggleable__control:checked~label.sk-toggleable__label {background-color: #d4ebff;}#sk-container-id-2 div.sk-label input.sk-toggleable__control:checked~label.sk-toggleable__label {background-color: #d4ebff;}#sk-container-id-2 input.sk-hidden--visually {border: 0;clip: rect(1px 1px 1px 1px);clip: rect(1px, 1px, 1px, 1px);height: 1px;margin: -1px;overflow: hidden;padding: 0;position: absolute;width: 1px;}#sk-container-id-2 div.sk-estimator {font-family: monospace;background-color: #f0f8ff;border: 1px dotted black;border-radius: 0.25em;box-sizing: border-box;margin-bottom: 0.5em;}#sk-container-id-2 div.sk-estimator:hover {background-color: #d4ebff;}#sk-container-id-2 div.sk-parallel-item::after {content: \"\";width: 100%;border-bottom: 1px solid gray;flex-grow: 1;}#sk-container-id-2 div.sk-label:hover label.sk-toggleable__label {background-color: #d4ebff;}#sk-container-id-2 div.sk-serial::before {content: \"\";position: absolute;border-left: 1px solid gray;box-sizing: border-box;top: 0;bottom: 0;left: 50%;z-index: 0;}#sk-container-id-2 div.sk-serial {display: flex;flex-direction: column;align-items: center;background-color: white;padding-right: 0.2em;padding-left: 0.2em;position: relative;}#sk-container-id-2 div.sk-item {position: relative;z-index: 1;}#sk-container-id-2 div.sk-parallel {display: flex;align-items: stretch;justify-content: center;background-color: white;position: relative;}#sk-container-id-2 div.sk-item::before, #sk-container-id-2 div.sk-parallel-item::before {content: \"\";position: absolute;border-left: 1px solid gray;box-sizing: border-box;top: 0;bottom: 0;left: 50%;z-index: -1;}#sk-container-id-2 div.sk-parallel-item {display: flex;flex-direction: column;z-index: 1;position: relative;background-color: white;}#sk-container-id-2 div.sk-parallel-item:first-child::after {align-self: flex-end;width: 50%;}#sk-container-id-2 div.sk-parallel-item:last-child::after {align-self: flex-start;width: 50%;}#sk-container-id-2 div.sk-parallel-item:only-child::after {width: 0;}#sk-container-id-2 div.sk-dashed-wrapped {border: 1px dashed gray;margin: 0 0.4em 0.5em 0.4em;box-sizing: border-box;padding-bottom: 0.4em;background-color: white;}#sk-container-id-2 div.sk-label label {font-family: monospace;font-weight: bold;display: inline-block;line-height: 1.2em;}#sk-container-id-2 div.sk-label-container {text-align: center;}#sk-container-id-2 div.sk-container {/* jupyter's `normalize.less` sets `[hidden] { display: none; }` but bootstrap.min.css set `[hidden] { display: none !important; }` so we also need the `!important` here to be able to override the default hidden behavior on the sphinx rendered scikit-learn.org. See: https://github.com/scikit-learn/scikit-learn/issues/21755 */display: inline-block !important;position: relative;}#sk-container-id-2 div.sk-text-repr-fallback {display: none;}</style><div id=\"sk-container-id-2\" class=\"sk-top-container\"><div class=\"sk-text-repr-fallback\"><pre>RandomForestRegressor(random_state=1)</pre><b>In a Jupyter environment, please rerun this cell to show the HTML representation or trust the notebook. <br />On GitHub, the HTML representation is unable to render, please try loading this page with nbviewer.org.</b></div><div class=\"sk-container\" hidden><div class=\"sk-item\"><div class=\"sk-estimator sk-toggleable\"><input class=\"sk-toggleable__control sk-hidden--visually\" id=\"sk-estimator-id-2\" type=\"checkbox\" checked><label for=\"sk-estimator-id-2\" class=\"sk-toggleable__label sk-toggleable__label-arrow\">RandomForestRegressor</label><div class=\"sk-toggleable__content\"><pre>RandomForestRegressor(random_state=1)</pre></div></div></div></div></div>"
      ],
      "text/plain": [
       "RandomForestRegressor(random_state=1)"
      ]
     },
     "execution_count": 8,
     "metadata": {},
     "output_type": "execute_result"
    }
   ],
   "source": [
    "# Define model\n",
    "rf_model_on_full_data = RandomForestRegressor(random_state=1)\n",
    "\n",
    "# Train model\n",
    "rf_model_on_full_data.fit(X, y)"
   ]
  },
  {
   "cell_type": "markdown",
   "id": "2600dad5",
   "metadata": {
    "papermill": {
     "duration": 0.008362,
     "end_time": "2023-12-18T00:10:02.169826",
     "exception": false,
     "start_time": "2023-12-18T00:10:02.161464",
     "status": "completed"
    },
    "tags": []
   },
   "source": [
    "## Load the test data"
   ]
  },
  {
   "cell_type": "code",
   "execution_count": 9,
   "id": "641f07ab",
   "metadata": {
    "execution": {
     "iopub.execute_input": "2023-12-18T00:10:02.189465Z",
     "iopub.status.busy": "2023-12-18T00:10:02.189033Z",
     "iopub.status.idle": "2023-12-18T00:10:02.234503Z",
     "shell.execute_reply": "2023-12-18T00:10:02.232983Z"
    },
    "papermill": {
     "duration": 0.058881,
     "end_time": "2023-12-18T00:10:02.237786",
     "exception": false,
     "start_time": "2023-12-18T00:10:02.178905",
     "status": "completed"
    },
    "tags": []
   },
   "outputs": [],
   "source": [
    "# path to file you will use for predictions\n",
    "test_data_path = '../input/house-prices-advanced-regression-techniques/test.csv'\n",
    "\n",
    "# read test data file using pandas\n",
    "test_data = pd.read_csv(test_data_path)"
   ]
  },
  {
   "cell_type": "markdown",
   "id": "7ee857d6",
   "metadata": {
    "papermill": {
     "duration": 0.008398,
     "end_time": "2023-12-18T00:10:02.255014",
     "exception": false,
     "start_time": "2023-12-18T00:10:02.246616",
     "status": "completed"
    },
    "tags": []
   },
   "source": [
    "## Create test X with selected features"
   ]
  },
  {
   "cell_type": "code",
   "execution_count": 10,
   "id": "57e1a1f2",
   "metadata": {
    "execution": {
     "iopub.execute_input": "2023-12-18T00:10:02.274970Z",
     "iopub.status.busy": "2023-12-18T00:10:02.274009Z",
     "iopub.status.idle": "2023-12-18T00:10:02.282263Z",
     "shell.execute_reply": "2023-12-18T00:10:02.281282Z"
    },
    "papermill": {
     "duration": 0.021288,
     "end_time": "2023-12-18T00:10:02.285137",
     "exception": false,
     "start_time": "2023-12-18T00:10:02.263849",
     "status": "completed"
    },
    "tags": []
   },
   "outputs": [],
   "source": [
    "# create test_X which comes from test_data but includes only the columns you used for prediction.\n",
    "# The list of columns is stored in a variable called features\n",
    "test_X = test_data[features]"
   ]
  },
  {
   "cell_type": "markdown",
   "id": "d1b3aaab",
   "metadata": {
    "papermill": {
     "duration": 0.008598,
     "end_time": "2023-12-18T00:10:02.302463",
     "exception": false,
     "start_time": "2023-12-18T00:10:02.293865",
     "status": "completed"
    },
    "tags": []
   },
   "source": [
    "## Make predictions"
   ]
  },
  {
   "cell_type": "code",
   "execution_count": 11,
   "id": "6e8155fe",
   "metadata": {
    "execution": {
     "iopub.execute_input": "2023-12-18T00:10:02.322460Z",
     "iopub.status.busy": "2023-12-18T00:10:02.321615Z",
     "iopub.status.idle": "2023-12-18T00:10:02.356953Z",
     "shell.execute_reply": "2023-12-18T00:10:02.355769Z"
    },
    "papermill": {
     "duration": 0.048995,
     "end_time": "2023-12-18T00:10:02.360324",
     "exception": false,
     "start_time": "2023-12-18T00:10:02.311329",
     "status": "completed"
    },
    "tags": []
   },
   "outputs": [],
   "source": [
    "# make predictions which we will submit. \n",
    "test_preds = rf_model_on_full_data.predict(test_X)"
   ]
  },
  {
   "cell_type": "markdown",
   "id": "2e80d06a",
   "metadata": {
    "papermill": {
     "duration": 0.008355,
     "end_time": "2023-12-18T00:10:02.377464",
     "exception": false,
     "start_time": "2023-12-18T00:10:02.369109",
     "status": "completed"
    },
    "tags": []
   },
   "source": [
    "## Generate a submission"
   ]
  },
  {
   "cell_type": "code",
   "execution_count": 12,
   "id": "bfa50b85",
   "metadata": {
    "execution": {
     "iopub.execute_input": "2023-12-18T00:10:02.396732Z",
     "iopub.status.busy": "2023-12-18T00:10:02.396280Z",
     "iopub.status.idle": "2023-12-18T00:10:02.411691Z",
     "shell.execute_reply": "2023-12-18T00:10:02.410397Z"
    },
    "papermill": {
     "duration": 0.028273,
     "end_time": "2023-12-18T00:10:02.414534",
     "exception": false,
     "start_time": "2023-12-18T00:10:02.386261",
     "status": "completed"
    },
    "tags": []
   },
   "outputs": [],
   "source": [
    "# Run the code to save predictions in the format used for competition scoring\n",
    "\n",
    "output = pd.DataFrame({'Id': test_data.Id,\n",
    "                       'SalePrice': test_preds})\n",
    "output.to_csv('submission.csv', index=False)"
   ]
  },
  {
   "cell_type": "code",
   "execution_count": null,
   "id": "fd72684f",
   "metadata": {
    "papermill": {
     "duration": 0.008319,
     "end_time": "2023-12-18T00:10:02.431634",
     "exception": false,
     "start_time": "2023-12-18T00:10:02.423315",
     "status": "completed"
    },
    "tags": []
   },
   "outputs": [],
   "source": []
  }
 ],
 "metadata": {
  "kaggle": {
   "accelerator": "none",
   "dataSources": [
    {
     "databundleVersionId": 868283,
     "sourceId": 5407,
     "sourceType": "competition"
    }
   ],
   "dockerImageVersionId": 30615,
   "isGpuEnabled": false,
   "isInternetEnabled": true,
   "language": "python",
   "sourceType": "notebook"
  },
  "kernelspec": {
   "display_name": "Python 3",
   "language": "python",
   "name": "python3"
  },
  "language_info": {
   "codemirror_mode": {
    "name": "ipython",
    "version": 3
   },
   "file_extension": ".py",
   "mimetype": "text/x-python",
   "name": "python",
   "nbconvert_exporter": "python",
   "pygments_lexer": "ipython3",
   "version": "3.10.12"
  },
  "papermill": {
   "default_parameters": {},
   "duration": 9.584329,
   "end_time": "2023-12-18T00:10:03.063750",
   "environment_variables": {},
   "exception": null,
   "input_path": "__notebook__.ipynb",
   "output_path": "__notebook__.ipynb",
   "parameters": {},
   "start_time": "2023-12-18T00:09:53.479421",
   "version": "2.4.0"
  }
 },
 "nbformat": 4,
 "nbformat_minor": 5
}
