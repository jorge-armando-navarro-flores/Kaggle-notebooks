{
 "cells": [
  {
   "cell_type": "markdown",
   "id": "52879ae2",
   "metadata": {
    "papermill": {
     "duration": 0.007382,
     "end_time": "2023-12-17T00:31:43.723512",
     "exception": false,
     "start_time": "2023-12-17T00:31:43.716130",
     "status": "completed"
    },
    "tags": []
   },
   "source": [
    "# Setup"
   ]
  },
  {
   "cell_type": "code",
   "execution_count": 1,
   "id": "b9288402",
   "metadata": {
    "_cell_guid": "b1076dfc-b9ad-4769-8c92-a6c4dae69d19",
    "_uuid": "8f2839f25d086af736a60e9eeb907d3b93b6e0e5",
    "execution": {
     "iopub.execute_input": "2023-12-17T00:31:43.740213Z",
     "iopub.status.busy": "2023-12-17T00:31:43.739823Z",
     "iopub.status.idle": "2023-12-17T00:31:43.752653Z",
     "shell.execute_reply": "2023-12-17T00:31:43.750933Z"
    },
    "papermill": {
     "duration": 0.02411,
     "end_time": "2023-12-17T00:31:43.755365",
     "exception": false,
     "start_time": "2023-12-17T00:31:43.731255",
     "status": "completed"
    },
    "tags": []
   },
   "outputs": [
    {
     "name": "stdout",
     "output_type": "stream",
     "text": [
      "/kaggle/input/house-prices-advanced-regression-techniques/sample_submission.csv\n",
      "/kaggle/input/house-prices-advanced-regression-techniques/data_description.txt\n",
      "/kaggle/input/house-prices-advanced-regression-techniques/train.csv\n",
      "/kaggle/input/house-prices-advanced-regression-techniques/test.csv\n"
     ]
    }
   ],
   "source": [
    "import os\n",
    "for dirname, _, filenames in os.walk('/kaggle/input'):\n",
    "    for filename in filenames:\n",
    "        print(os.path.join(dirname, filename))"
   ]
  },
  {
   "cell_type": "markdown",
   "id": "56c06fa6",
   "metadata": {
    "papermill": {
     "duration": 0.006789,
     "end_time": "2023-12-17T00:31:43.769600",
     "exception": false,
     "start_time": "2023-12-17T00:31:43.762811",
     "status": "completed"
    },
    "tags": []
   },
   "source": [
    "## Import helpful libraries"
   ]
  },
  {
   "cell_type": "code",
   "execution_count": 2,
   "id": "2c3f2924",
   "metadata": {
    "execution": {
     "iopub.execute_input": "2023-12-17T00:31:43.786038Z",
     "iopub.status.busy": "2023-12-17T00:31:43.785600Z",
     "iopub.status.idle": "2023-12-17T00:31:46.843784Z",
     "shell.execute_reply": "2023-12-17T00:31:46.842433Z"
    },
    "papermill": {
     "duration": 3.070647,
     "end_time": "2023-12-17T00:31:46.847226",
     "exception": false,
     "start_time": "2023-12-17T00:31:43.776579",
     "status": "completed"
    },
    "tags": []
   },
   "outputs": [],
   "source": [
    "# Import helpful libraries\n",
    "import pandas as pd\n",
    "from sklearn.ensemble import RandomForestRegressor\n",
    "from sklearn.metrics import mean_absolute_error\n",
    "from sklearn.model_selection import train_test_split\n",
    "import seaborn as sns"
   ]
  },
  {
   "cell_type": "markdown",
   "id": "a72b16dd",
   "metadata": {
    "papermill": {
     "duration": 0.006688,
     "end_time": "2023-12-17T00:31:46.861135",
     "exception": false,
     "start_time": "2023-12-17T00:31:46.854447",
     "status": "completed"
    },
    "tags": []
   },
   "source": [
    "# Data Cleaning"
   ]
  },
  {
   "cell_type": "markdown",
   "id": "c3d1c283",
   "metadata": {
    "papermill": {
     "duration": 0.006629,
     "end_time": "2023-12-17T00:31:46.874811",
     "exception": false,
     "start_time": "2023-12-17T00:31:46.868182",
     "status": "completed"
    },
    "tags": []
   },
   "source": [
    "## Reading and understanding our data"
   ]
  },
  {
   "cell_type": "code",
   "execution_count": 3,
   "id": "b43b7297",
   "metadata": {
    "execution": {
     "iopub.execute_input": "2023-12-17T00:31:46.890981Z",
     "iopub.status.busy": "2023-12-17T00:31:46.890152Z",
     "iopub.status.idle": "2023-12-17T00:31:46.968307Z",
     "shell.execute_reply": "2023-12-17T00:31:46.967248Z"
    },
    "papermill": {
     "duration": 0.088302,
     "end_time": "2023-12-17T00:31:46.970150",
     "exception": false,
     "start_time": "2023-12-17T00:31:46.881848",
     "status": "completed"
    },
    "tags": []
   },
   "outputs": [
    {
     "data": {
      "text/html": [
       "<div>\n",
       "<style scoped>\n",
       "    .dataframe tbody tr th:only-of-type {\n",
       "        vertical-align: middle;\n",
       "    }\n",
       "\n",
       "    .dataframe tbody tr th {\n",
       "        vertical-align: top;\n",
       "    }\n",
       "\n",
       "    .dataframe thead th {\n",
       "        text-align: right;\n",
       "    }\n",
       "</style>\n",
       "<table border=\"1\" class=\"dataframe\">\n",
       "  <thead>\n",
       "    <tr style=\"text-align: right;\">\n",
       "      <th></th>\n",
       "      <th>Id</th>\n",
       "      <th>MSSubClass</th>\n",
       "      <th>MSZoning</th>\n",
       "      <th>LotFrontage</th>\n",
       "      <th>LotArea</th>\n",
       "      <th>Street</th>\n",
       "      <th>Alley</th>\n",
       "      <th>LotShape</th>\n",
       "      <th>LandContour</th>\n",
       "      <th>Utilities</th>\n",
       "      <th>...</th>\n",
       "      <th>PoolArea</th>\n",
       "      <th>PoolQC</th>\n",
       "      <th>Fence</th>\n",
       "      <th>MiscFeature</th>\n",
       "      <th>MiscVal</th>\n",
       "      <th>MoSold</th>\n",
       "      <th>YrSold</th>\n",
       "      <th>SaleType</th>\n",
       "      <th>SaleCondition</th>\n",
       "      <th>SalePrice</th>\n",
       "    </tr>\n",
       "  </thead>\n",
       "  <tbody>\n",
       "    <tr>\n",
       "      <th>0</th>\n",
       "      <td>1</td>\n",
       "      <td>60</td>\n",
       "      <td>RL</td>\n",
       "      <td>65.0</td>\n",
       "      <td>8450</td>\n",
       "      <td>Pave</td>\n",
       "      <td>NaN</td>\n",
       "      <td>Reg</td>\n",
       "      <td>Lvl</td>\n",
       "      <td>AllPub</td>\n",
       "      <td>...</td>\n",
       "      <td>0</td>\n",
       "      <td>NaN</td>\n",
       "      <td>NaN</td>\n",
       "      <td>NaN</td>\n",
       "      <td>0</td>\n",
       "      <td>2</td>\n",
       "      <td>2008</td>\n",
       "      <td>WD</td>\n",
       "      <td>Normal</td>\n",
       "      <td>208500</td>\n",
       "    </tr>\n",
       "    <tr>\n",
       "      <th>1</th>\n",
       "      <td>2</td>\n",
       "      <td>20</td>\n",
       "      <td>RL</td>\n",
       "      <td>80.0</td>\n",
       "      <td>9600</td>\n",
       "      <td>Pave</td>\n",
       "      <td>NaN</td>\n",
       "      <td>Reg</td>\n",
       "      <td>Lvl</td>\n",
       "      <td>AllPub</td>\n",
       "      <td>...</td>\n",
       "      <td>0</td>\n",
       "      <td>NaN</td>\n",
       "      <td>NaN</td>\n",
       "      <td>NaN</td>\n",
       "      <td>0</td>\n",
       "      <td>5</td>\n",
       "      <td>2007</td>\n",
       "      <td>WD</td>\n",
       "      <td>Normal</td>\n",
       "      <td>181500</td>\n",
       "    </tr>\n",
       "    <tr>\n",
       "      <th>2</th>\n",
       "      <td>3</td>\n",
       "      <td>60</td>\n",
       "      <td>RL</td>\n",
       "      <td>68.0</td>\n",
       "      <td>11250</td>\n",
       "      <td>Pave</td>\n",
       "      <td>NaN</td>\n",
       "      <td>IR1</td>\n",
       "      <td>Lvl</td>\n",
       "      <td>AllPub</td>\n",
       "      <td>...</td>\n",
       "      <td>0</td>\n",
       "      <td>NaN</td>\n",
       "      <td>NaN</td>\n",
       "      <td>NaN</td>\n",
       "      <td>0</td>\n",
       "      <td>9</td>\n",
       "      <td>2008</td>\n",
       "      <td>WD</td>\n",
       "      <td>Normal</td>\n",
       "      <td>223500</td>\n",
       "    </tr>\n",
       "    <tr>\n",
       "      <th>3</th>\n",
       "      <td>4</td>\n",
       "      <td>70</td>\n",
       "      <td>RL</td>\n",
       "      <td>60.0</td>\n",
       "      <td>9550</td>\n",
       "      <td>Pave</td>\n",
       "      <td>NaN</td>\n",
       "      <td>IR1</td>\n",
       "      <td>Lvl</td>\n",
       "      <td>AllPub</td>\n",
       "      <td>...</td>\n",
       "      <td>0</td>\n",
       "      <td>NaN</td>\n",
       "      <td>NaN</td>\n",
       "      <td>NaN</td>\n",
       "      <td>0</td>\n",
       "      <td>2</td>\n",
       "      <td>2006</td>\n",
       "      <td>WD</td>\n",
       "      <td>Abnorml</td>\n",
       "      <td>140000</td>\n",
       "    </tr>\n",
       "    <tr>\n",
       "      <th>4</th>\n",
       "      <td>5</td>\n",
       "      <td>60</td>\n",
       "      <td>RL</td>\n",
       "      <td>84.0</td>\n",
       "      <td>14260</td>\n",
       "      <td>Pave</td>\n",
       "      <td>NaN</td>\n",
       "      <td>IR1</td>\n",
       "      <td>Lvl</td>\n",
       "      <td>AllPub</td>\n",
       "      <td>...</td>\n",
       "      <td>0</td>\n",
       "      <td>NaN</td>\n",
       "      <td>NaN</td>\n",
       "      <td>NaN</td>\n",
       "      <td>0</td>\n",
       "      <td>12</td>\n",
       "      <td>2008</td>\n",
       "      <td>WD</td>\n",
       "      <td>Normal</td>\n",
       "      <td>250000</td>\n",
       "    </tr>\n",
       "    <tr>\n",
       "      <th>5</th>\n",
       "      <td>6</td>\n",
       "      <td>50</td>\n",
       "      <td>RL</td>\n",
       "      <td>85.0</td>\n",
       "      <td>14115</td>\n",
       "      <td>Pave</td>\n",
       "      <td>NaN</td>\n",
       "      <td>IR1</td>\n",
       "      <td>Lvl</td>\n",
       "      <td>AllPub</td>\n",
       "      <td>...</td>\n",
       "      <td>0</td>\n",
       "      <td>NaN</td>\n",
       "      <td>MnPrv</td>\n",
       "      <td>Shed</td>\n",
       "      <td>700</td>\n",
       "      <td>10</td>\n",
       "      <td>2009</td>\n",
       "      <td>WD</td>\n",
       "      <td>Normal</td>\n",
       "      <td>143000</td>\n",
       "    </tr>\n",
       "    <tr>\n",
       "      <th>6</th>\n",
       "      <td>7</td>\n",
       "      <td>20</td>\n",
       "      <td>RL</td>\n",
       "      <td>75.0</td>\n",
       "      <td>10084</td>\n",
       "      <td>Pave</td>\n",
       "      <td>NaN</td>\n",
       "      <td>Reg</td>\n",
       "      <td>Lvl</td>\n",
       "      <td>AllPub</td>\n",
       "      <td>...</td>\n",
       "      <td>0</td>\n",
       "      <td>NaN</td>\n",
       "      <td>NaN</td>\n",
       "      <td>NaN</td>\n",
       "      <td>0</td>\n",
       "      <td>8</td>\n",
       "      <td>2007</td>\n",
       "      <td>WD</td>\n",
       "      <td>Normal</td>\n",
       "      <td>307000</td>\n",
       "    </tr>\n",
       "    <tr>\n",
       "      <th>7</th>\n",
       "      <td>8</td>\n",
       "      <td>60</td>\n",
       "      <td>RL</td>\n",
       "      <td>NaN</td>\n",
       "      <td>10382</td>\n",
       "      <td>Pave</td>\n",
       "      <td>NaN</td>\n",
       "      <td>IR1</td>\n",
       "      <td>Lvl</td>\n",
       "      <td>AllPub</td>\n",
       "      <td>...</td>\n",
       "      <td>0</td>\n",
       "      <td>NaN</td>\n",
       "      <td>NaN</td>\n",
       "      <td>Shed</td>\n",
       "      <td>350</td>\n",
       "      <td>11</td>\n",
       "      <td>2009</td>\n",
       "      <td>WD</td>\n",
       "      <td>Normal</td>\n",
       "      <td>200000</td>\n",
       "    </tr>\n",
       "    <tr>\n",
       "      <th>8</th>\n",
       "      <td>9</td>\n",
       "      <td>50</td>\n",
       "      <td>RM</td>\n",
       "      <td>51.0</td>\n",
       "      <td>6120</td>\n",
       "      <td>Pave</td>\n",
       "      <td>NaN</td>\n",
       "      <td>Reg</td>\n",
       "      <td>Lvl</td>\n",
       "      <td>AllPub</td>\n",
       "      <td>...</td>\n",
       "      <td>0</td>\n",
       "      <td>NaN</td>\n",
       "      <td>NaN</td>\n",
       "      <td>NaN</td>\n",
       "      <td>0</td>\n",
       "      <td>4</td>\n",
       "      <td>2008</td>\n",
       "      <td>WD</td>\n",
       "      <td>Abnorml</td>\n",
       "      <td>129900</td>\n",
       "    </tr>\n",
       "    <tr>\n",
       "      <th>9</th>\n",
       "      <td>10</td>\n",
       "      <td>190</td>\n",
       "      <td>RL</td>\n",
       "      <td>50.0</td>\n",
       "      <td>7420</td>\n",
       "      <td>Pave</td>\n",
       "      <td>NaN</td>\n",
       "      <td>Reg</td>\n",
       "      <td>Lvl</td>\n",
       "      <td>AllPub</td>\n",
       "      <td>...</td>\n",
       "      <td>0</td>\n",
       "      <td>NaN</td>\n",
       "      <td>NaN</td>\n",
       "      <td>NaN</td>\n",
       "      <td>0</td>\n",
       "      <td>1</td>\n",
       "      <td>2008</td>\n",
       "      <td>WD</td>\n",
       "      <td>Normal</td>\n",
       "      <td>118000</td>\n",
       "    </tr>\n",
       "  </tbody>\n",
       "</table>\n",
       "<p>10 rows × 81 columns</p>\n",
       "</div>"
      ],
      "text/plain": [
       "   Id  MSSubClass MSZoning  LotFrontage  LotArea Street Alley LotShape  \\\n",
       "0   1          60       RL         65.0     8450   Pave   NaN      Reg   \n",
       "1   2          20       RL         80.0     9600   Pave   NaN      Reg   \n",
       "2   3          60       RL         68.0    11250   Pave   NaN      IR1   \n",
       "3   4          70       RL         60.0     9550   Pave   NaN      IR1   \n",
       "4   5          60       RL         84.0    14260   Pave   NaN      IR1   \n",
       "5   6          50       RL         85.0    14115   Pave   NaN      IR1   \n",
       "6   7          20       RL         75.0    10084   Pave   NaN      Reg   \n",
       "7   8          60       RL          NaN    10382   Pave   NaN      IR1   \n",
       "8   9          50       RM         51.0     6120   Pave   NaN      Reg   \n",
       "9  10         190       RL         50.0     7420   Pave   NaN      Reg   \n",
       "\n",
       "  LandContour Utilities  ... PoolArea PoolQC  Fence MiscFeature MiscVal  \\\n",
       "0         Lvl    AllPub  ...        0    NaN    NaN         NaN       0   \n",
       "1         Lvl    AllPub  ...        0    NaN    NaN         NaN       0   \n",
       "2         Lvl    AllPub  ...        0    NaN    NaN         NaN       0   \n",
       "3         Lvl    AllPub  ...        0    NaN    NaN         NaN       0   \n",
       "4         Lvl    AllPub  ...        0    NaN    NaN         NaN       0   \n",
       "5         Lvl    AllPub  ...        0    NaN  MnPrv        Shed     700   \n",
       "6         Lvl    AllPub  ...        0    NaN    NaN         NaN       0   \n",
       "7         Lvl    AllPub  ...        0    NaN    NaN        Shed     350   \n",
       "8         Lvl    AllPub  ...        0    NaN    NaN         NaN       0   \n",
       "9         Lvl    AllPub  ...        0    NaN    NaN         NaN       0   \n",
       "\n",
       "  MoSold YrSold  SaleType  SaleCondition  SalePrice  \n",
       "0      2   2008        WD         Normal     208500  \n",
       "1      5   2007        WD         Normal     181500  \n",
       "2      9   2008        WD         Normal     223500  \n",
       "3      2   2006        WD        Abnorml     140000  \n",
       "4     12   2008        WD         Normal     250000  \n",
       "5     10   2009        WD         Normal     143000  \n",
       "6      8   2007        WD         Normal     307000  \n",
       "7     11   2009        WD         Normal     200000  \n",
       "8      4   2008        WD        Abnorml     129900  \n",
       "9      1   2008        WD         Normal     118000  \n",
       "\n",
       "[10 rows x 81 columns]"
      ]
     },
     "execution_count": 3,
     "metadata": {},
     "output_type": "execute_result"
    }
   ],
   "source": [
    "# Load our Data\n",
    "iowa_file_path = '../input/house-prices-advanced-regression-techniques/train.csv'\n",
    "home_data = pd.read_csv(iowa_file_path)\n",
    "home_data.head(10)"
   ]
  },
  {
   "cell_type": "code",
   "execution_count": 4,
   "id": "0126069a",
   "metadata": {
    "execution": {
     "iopub.execute_input": "2023-12-17T00:31:46.987870Z",
     "iopub.status.busy": "2023-12-17T00:31:46.987112Z",
     "iopub.status.idle": "2023-12-17T00:31:47.019836Z",
     "shell.execute_reply": "2023-12-17T00:31:47.017895Z"
    },
    "papermill": {
     "duration": 0.044265,
     "end_time": "2023-12-17T00:31:47.022282",
     "exception": false,
     "start_time": "2023-12-17T00:31:46.978017",
     "status": "completed"
    },
    "tags": []
   },
   "outputs": [
    {
     "name": "stdout",
     "output_type": "stream",
     "text": [
      "<class 'pandas.core.frame.DataFrame'>\n",
      "RangeIndex: 1460 entries, 0 to 1459\n",
      "Data columns (total 81 columns):\n",
      " #   Column         Non-Null Count  Dtype  \n",
      "---  ------         --------------  -----  \n",
      " 0   Id             1460 non-null   int64  \n",
      " 1   MSSubClass     1460 non-null   int64  \n",
      " 2   MSZoning       1460 non-null   object \n",
      " 3   LotFrontage    1201 non-null   float64\n",
      " 4   LotArea        1460 non-null   int64  \n",
      " 5   Street         1460 non-null   object \n",
      " 6   Alley          91 non-null     object \n",
      " 7   LotShape       1460 non-null   object \n",
      " 8   LandContour    1460 non-null   object \n",
      " 9   Utilities      1460 non-null   object \n",
      " 10  LotConfig      1460 non-null   object \n",
      " 11  LandSlope      1460 non-null   object \n",
      " 12  Neighborhood   1460 non-null   object \n",
      " 13  Condition1     1460 non-null   object \n",
      " 14  Condition2     1460 non-null   object \n",
      " 15  BldgType       1460 non-null   object \n",
      " 16  HouseStyle     1460 non-null   object \n",
      " 17  OverallQual    1460 non-null   int64  \n",
      " 18  OverallCond    1460 non-null   int64  \n",
      " 19  YearBuilt      1460 non-null   int64  \n",
      " 20  YearRemodAdd   1460 non-null   int64  \n",
      " 21  RoofStyle      1460 non-null   object \n",
      " 22  RoofMatl       1460 non-null   object \n",
      " 23  Exterior1st    1460 non-null   object \n",
      " 24  Exterior2nd    1460 non-null   object \n",
      " 25  MasVnrType     588 non-null    object \n",
      " 26  MasVnrArea     1452 non-null   float64\n",
      " 27  ExterQual      1460 non-null   object \n",
      " 28  ExterCond      1460 non-null   object \n",
      " 29  Foundation     1460 non-null   object \n",
      " 30  BsmtQual       1423 non-null   object \n",
      " 31  BsmtCond       1423 non-null   object \n",
      " 32  BsmtExposure   1422 non-null   object \n",
      " 33  BsmtFinType1   1423 non-null   object \n",
      " 34  BsmtFinSF1     1460 non-null   int64  \n",
      " 35  BsmtFinType2   1422 non-null   object \n",
      " 36  BsmtFinSF2     1460 non-null   int64  \n",
      " 37  BsmtUnfSF      1460 non-null   int64  \n",
      " 38  TotalBsmtSF    1460 non-null   int64  \n",
      " 39  Heating        1460 non-null   object \n",
      " 40  HeatingQC      1460 non-null   object \n",
      " 41  CentralAir     1460 non-null   object \n",
      " 42  Electrical     1459 non-null   object \n",
      " 43  1stFlrSF       1460 non-null   int64  \n",
      " 44  2ndFlrSF       1460 non-null   int64  \n",
      " 45  LowQualFinSF   1460 non-null   int64  \n",
      " 46  GrLivArea      1460 non-null   int64  \n",
      " 47  BsmtFullBath   1460 non-null   int64  \n",
      " 48  BsmtHalfBath   1460 non-null   int64  \n",
      " 49  FullBath       1460 non-null   int64  \n",
      " 50  HalfBath       1460 non-null   int64  \n",
      " 51  BedroomAbvGr   1460 non-null   int64  \n",
      " 52  KitchenAbvGr   1460 non-null   int64  \n",
      " 53  KitchenQual    1460 non-null   object \n",
      " 54  TotRmsAbvGrd   1460 non-null   int64  \n",
      " 55  Functional     1460 non-null   object \n",
      " 56  Fireplaces     1460 non-null   int64  \n",
      " 57  FireplaceQu    770 non-null    object \n",
      " 58  GarageType     1379 non-null   object \n",
      " 59  GarageYrBlt    1379 non-null   float64\n",
      " 60  GarageFinish   1379 non-null   object \n",
      " 61  GarageCars     1460 non-null   int64  \n",
      " 62  GarageArea     1460 non-null   int64  \n",
      " 63  GarageQual     1379 non-null   object \n",
      " 64  GarageCond     1379 non-null   object \n",
      " 65  PavedDrive     1460 non-null   object \n",
      " 66  WoodDeckSF     1460 non-null   int64  \n",
      " 67  OpenPorchSF    1460 non-null   int64  \n",
      " 68  EnclosedPorch  1460 non-null   int64  \n",
      " 69  3SsnPorch      1460 non-null   int64  \n",
      " 70  ScreenPorch    1460 non-null   int64  \n",
      " 71  PoolArea       1460 non-null   int64  \n",
      " 72  PoolQC         7 non-null      object \n",
      " 73  Fence          281 non-null    object \n",
      " 74  MiscFeature    54 non-null     object \n",
      " 75  MiscVal        1460 non-null   int64  \n",
      " 76  MoSold         1460 non-null   int64  \n",
      " 77  YrSold         1460 non-null   int64  \n",
      " 78  SaleType       1460 non-null   object \n",
      " 79  SaleCondition  1460 non-null   object \n",
      " 80  SalePrice      1460 non-null   int64  \n",
      "dtypes: float64(3), int64(35), object(43)\n",
      "memory usage: 924.0+ KB\n"
     ]
    }
   ],
   "source": [
    "home_data.info()"
   ]
  },
  {
   "cell_type": "code",
   "execution_count": 5,
   "id": "95255e75",
   "metadata": {
    "execution": {
     "iopub.execute_input": "2023-12-17T00:31:47.039523Z",
     "iopub.status.busy": "2023-12-17T00:31:47.039123Z",
     "iopub.status.idle": "2023-12-17T00:31:47.050205Z",
     "shell.execute_reply": "2023-12-17T00:31:47.049530Z"
    },
    "papermill": {
     "duration": 0.022084,
     "end_time": "2023-12-17T00:31:47.052117",
     "exception": false,
     "start_time": "2023-12-17T00:31:47.030033",
     "status": "completed"
    },
    "tags": []
   },
   "outputs": [
    {
     "data": {
      "text/plain": [
       "count      1460.000000\n",
       "mean     180921.195890\n",
       "std       79442.502883\n",
       "min       34900.000000\n",
       "25%      129975.000000\n",
       "50%      163000.000000\n",
       "75%      214000.000000\n",
       "max      755000.000000\n",
       "Name: SalePrice, dtype: float64"
      ]
     },
     "execution_count": 5,
     "metadata": {},
     "output_type": "execute_result"
    }
   ],
   "source": [
    "home_data[\"SalePrice\"].describe()"
   ]
  },
  {
   "cell_type": "markdown",
   "id": "32431656",
   "metadata": {
    "papermill": {
     "duration": 0.00811,
     "end_time": "2023-12-17T00:31:47.068070",
     "exception": false,
     "start_time": "2023-12-17T00:31:47.059960",
     "status": "completed"
    },
    "tags": []
   },
   "source": [
    "From the above analysis, it is important to note that the minimum value is greater than 0. Also, there is a big difference between the minimum value and the 25th percentile. It is bigger than the 75th percentile and the maximum value. This means that our data might not be normally distributed (an important assumption for linear regression analysis), so will check for normality in the Log Transform section."
   ]
  },
  {
   "cell_type": "markdown",
   "id": "bbfa4a80",
   "metadata": {
    "papermill": {
     "duration": 0.007341,
     "end_time": "2023-12-17T00:31:47.083124",
     "exception": false,
     "start_time": "2023-12-17T00:31:47.075783",
     "status": "completed"
    },
    "tags": []
   },
   "source": [
    "## Looking for Correlations"
   ]
  },
  {
   "cell_type": "code",
   "execution_count": 6,
   "id": "71c4dafd",
   "metadata": {
    "execution": {
     "iopub.execute_input": "2023-12-17T00:31:47.101000Z",
     "iopub.status.busy": "2023-12-17T00:31:47.100011Z",
     "iopub.status.idle": "2023-12-17T00:31:47.115013Z",
     "shell.execute_reply": "2023-12-17T00:31:47.113247Z"
    },
    "papermill": {
     "duration": 0.026889,
     "end_time": "2023-12-17T00:31:47.117635",
     "exception": false,
     "start_time": "2023-12-17T00:31:47.090746",
     "status": "completed"
    },
    "tags": []
   },
   "outputs": [
    {
     "name": "stdout",
     "output_type": "stream",
     "text": [
      "There is 10 strongly correlated values with SalePrice:\n",
      "OverallQual     0.790982\n",
      "GrLivArea       0.708624\n",
      "GarageCars      0.640409\n",
      "GarageArea      0.623431\n",
      "TotalBsmtSF     0.613581\n",
      "1stFlrSF        0.605852\n",
      "FullBath        0.560664\n",
      "TotRmsAbvGrd    0.533723\n",
      "YearBuilt       0.522897\n",
      "YearRemodAdd    0.507101\n",
      "Name: SalePrice, dtype: float64\n"
     ]
    }
   ],
   "source": [
    "hous_num = home_data.select_dtypes(include = ['float64', 'int64'])\n",
    "hous_num_corr = hous_num.corr()['SalePrice'][:-1] # -1 means that the latest row is SalePrice\n",
    "top_features = hous_num_corr[abs(hous_num_corr) > 0.5].sort_values(ascending=False) #displays pearsons correlation coefficient greater than 0.5\n",
    "print(\"There is {} strongly correlated values with SalePrice:\\n{}\".format(len(top_features), top_features))"
   ]
  },
  {
   "cell_type": "code",
   "execution_count": 7,
   "id": "2aff72cb",
   "metadata": {
    "execution": {
     "iopub.execute_input": "2023-12-17T00:31:47.135147Z",
     "iopub.status.busy": "2023-12-17T00:31:47.134768Z",
     "iopub.status.idle": "2023-12-17T00:31:47.141201Z",
     "shell.execute_reply": "2023-12-17T00:31:47.140065Z"
    },
    "papermill": {
     "duration": 0.017192,
     "end_time": "2023-12-17T00:31:47.142907",
     "exception": false,
     "start_time": "2023-12-17T00:31:47.125715",
     "status": "completed"
    },
    "tags": []
   },
   "outputs": [
    {
     "data": {
      "text/plain": [
       "['OverallQual',\n",
       " 'GrLivArea',\n",
       " 'GarageCars',\n",
       " 'GarageArea',\n",
       " 'TotalBsmtSF',\n",
       " '1stFlrSF',\n",
       " 'FullBath',\n",
       " 'TotRmsAbvGrd',\n",
       " 'YearBuilt',\n",
       " 'YearRemodAdd']"
      ]
     },
     "execution_count": 7,
     "metadata": {},
     "output_type": "execute_result"
    }
   ],
   "source": [
    "top_features = list(top_features.index)\n",
    "top_features"
   ]
  },
  {
   "cell_type": "markdown",
   "id": "0cde1f75",
   "metadata": {
    "papermill": {
     "duration": 0.007692,
     "end_time": "2023-12-17T00:31:47.158917",
     "exception": false,
     "start_time": "2023-12-17T00:31:47.151225",
     "status": "completed"
    },
    "tags": []
   },
   "source": [
    "## Handling the Missing Values"
   ]
  },
  {
   "cell_type": "code",
   "execution_count": 8,
   "id": "3c45e8b1",
   "metadata": {
    "execution": {
     "iopub.execute_input": "2023-12-17T00:31:47.177103Z",
     "iopub.status.busy": "2023-12-17T00:31:47.176539Z",
     "iopub.status.idle": "2023-12-17T00:31:47.187408Z",
     "shell.execute_reply": "2023-12-17T00:31:47.186693Z"
    },
    "papermill": {
     "duration": 0.022663,
     "end_time": "2023-12-17T00:31:47.189705",
     "exception": false,
     "start_time": "2023-12-17T00:31:47.167042",
     "status": "completed"
    },
    "tags": []
   },
   "outputs": [
    {
     "name": "stdout",
     "output_type": "stream",
     "text": [
      "<class 'pandas.core.frame.DataFrame'>\n",
      "RangeIndex: 1460 entries, 0 to 1459\n",
      "Data columns (total 10 columns):\n",
      " #   Column        Non-Null Count  Dtype\n",
      "---  ------        --------------  -----\n",
      " 0   OverallQual   1460 non-null   int64\n",
      " 1   GrLivArea     1460 non-null   int64\n",
      " 2   GarageCars    1460 non-null   int64\n",
      " 3   GarageArea    1460 non-null   int64\n",
      " 4   TotalBsmtSF   1460 non-null   int64\n",
      " 5   1stFlrSF      1460 non-null   int64\n",
      " 6   FullBath      1460 non-null   int64\n",
      " 7   TotRmsAbvGrd  1460 non-null   int64\n",
      " 8   YearBuilt     1460 non-null   int64\n",
      " 9   YearRemodAdd  1460 non-null   int64\n",
      "dtypes: int64(10)\n",
      "memory usage: 114.2 KB\n"
     ]
    }
   ],
   "source": [
    "# check for missing values\n",
    "home_data[top_features].info()"
   ]
  },
  {
   "cell_type": "markdown",
   "id": "1f1a0d57",
   "metadata": {
    "papermill": {
     "duration": 0.00782,
     "end_time": "2023-12-17T00:31:47.205631",
     "exception": false,
     "start_time": "2023-12-17T00:31:47.197811",
     "status": "completed"
    },
    "tags": []
   },
   "source": [
    "# Train a model with train data"
   ]
  },
  {
   "cell_type": "markdown",
   "id": "f4df96b9",
   "metadata": {
    "papermill": {
     "duration": 0.007629,
     "end_time": "2023-12-17T00:31:47.221358",
     "exception": false,
     "start_time": "2023-12-17T00:31:47.213729",
     "status": "completed"
    },
    "tags": []
   },
   "source": [
    "## Separate the target"
   ]
  },
  {
   "cell_type": "code",
   "execution_count": 9,
   "id": "3380b9e0",
   "metadata": {
    "execution": {
     "iopub.execute_input": "2023-12-17T00:31:47.239209Z",
     "iopub.status.busy": "2023-12-17T00:31:47.238624Z",
     "iopub.status.idle": "2023-12-17T00:31:47.242936Z",
     "shell.execute_reply": "2023-12-17T00:31:47.241656Z"
    },
    "papermill": {
     "duration": 0.016179,
     "end_time": "2023-12-17T00:31:47.245507",
     "exception": false,
     "start_time": "2023-12-17T00:31:47.229328",
     "status": "completed"
    },
    "tags": []
   },
   "outputs": [],
   "source": [
    "# separate the target\n",
    "y = home_data.SalePrice"
   ]
  },
  {
   "cell_type": "markdown",
   "id": "b78bb9f4",
   "metadata": {
    "papermill": {
     "duration": 0.007511,
     "end_time": "2023-12-17T00:31:47.261155",
     "exception": false,
     "start_time": "2023-12-17T00:31:47.253644",
     "status": "completed"
    },
    "tags": []
   },
   "source": [
    "## Create X with selected features"
   ]
  },
  {
   "cell_type": "code",
   "execution_count": 10,
   "id": "cf72dfe2",
   "metadata": {
    "execution": {
     "iopub.execute_input": "2023-12-17T00:31:47.278839Z",
     "iopub.status.busy": "2023-12-17T00:31:47.278430Z",
     "iopub.status.idle": "2023-12-17T00:31:47.292362Z",
     "shell.execute_reply": "2023-12-17T00:31:47.290894Z"
    },
    "papermill": {
     "duration": 0.025121,
     "end_time": "2023-12-17T00:31:47.294356",
     "exception": false,
     "start_time": "2023-12-17T00:31:47.269235",
     "status": "completed"
    },
    "tags": []
   },
   "outputs": [
    {
     "data": {
      "text/html": [
       "<div>\n",
       "<style scoped>\n",
       "    .dataframe tbody tr th:only-of-type {\n",
       "        vertical-align: middle;\n",
       "    }\n",
       "\n",
       "    .dataframe tbody tr th {\n",
       "        vertical-align: top;\n",
       "    }\n",
       "\n",
       "    .dataframe thead th {\n",
       "        text-align: right;\n",
       "    }\n",
       "</style>\n",
       "<table border=\"1\" class=\"dataframe\">\n",
       "  <thead>\n",
       "    <tr style=\"text-align: right;\">\n",
       "      <th></th>\n",
       "      <th>OverallQual</th>\n",
       "      <th>GrLivArea</th>\n",
       "      <th>GarageCars</th>\n",
       "      <th>GarageArea</th>\n",
       "      <th>TotalBsmtSF</th>\n",
       "      <th>1stFlrSF</th>\n",
       "      <th>FullBath</th>\n",
       "      <th>TotRmsAbvGrd</th>\n",
       "      <th>YearBuilt</th>\n",
       "      <th>YearRemodAdd</th>\n",
       "    </tr>\n",
       "  </thead>\n",
       "  <tbody>\n",
       "    <tr>\n",
       "      <th>0</th>\n",
       "      <td>7</td>\n",
       "      <td>1710</td>\n",
       "      <td>2</td>\n",
       "      <td>548</td>\n",
       "      <td>856</td>\n",
       "      <td>856</td>\n",
       "      <td>2</td>\n",
       "      <td>8</td>\n",
       "      <td>2003</td>\n",
       "      <td>2003</td>\n",
       "    </tr>\n",
       "    <tr>\n",
       "      <th>1</th>\n",
       "      <td>6</td>\n",
       "      <td>1262</td>\n",
       "      <td>2</td>\n",
       "      <td>460</td>\n",
       "      <td>1262</td>\n",
       "      <td>1262</td>\n",
       "      <td>2</td>\n",
       "      <td>6</td>\n",
       "      <td>1976</td>\n",
       "      <td>1976</td>\n",
       "    </tr>\n",
       "    <tr>\n",
       "      <th>2</th>\n",
       "      <td>7</td>\n",
       "      <td>1786</td>\n",
       "      <td>2</td>\n",
       "      <td>608</td>\n",
       "      <td>920</td>\n",
       "      <td>920</td>\n",
       "      <td>2</td>\n",
       "      <td>6</td>\n",
       "      <td>2001</td>\n",
       "      <td>2002</td>\n",
       "    </tr>\n",
       "    <tr>\n",
       "      <th>3</th>\n",
       "      <td>7</td>\n",
       "      <td>1717</td>\n",
       "      <td>3</td>\n",
       "      <td>642</td>\n",
       "      <td>756</td>\n",
       "      <td>961</td>\n",
       "      <td>1</td>\n",
       "      <td>7</td>\n",
       "      <td>1915</td>\n",
       "      <td>1970</td>\n",
       "    </tr>\n",
       "    <tr>\n",
       "      <th>4</th>\n",
       "      <td>8</td>\n",
       "      <td>2198</td>\n",
       "      <td>3</td>\n",
       "      <td>836</td>\n",
       "      <td>1145</td>\n",
       "      <td>1145</td>\n",
       "      <td>2</td>\n",
       "      <td>9</td>\n",
       "      <td>2000</td>\n",
       "      <td>2000</td>\n",
       "    </tr>\n",
       "  </tbody>\n",
       "</table>\n",
       "</div>"
      ],
      "text/plain": [
       "   OverallQual  GrLivArea  GarageCars  GarageArea  TotalBsmtSF  1stFlrSF  \\\n",
       "0            7       1710           2         548          856       856   \n",
       "1            6       1262           2         460         1262      1262   \n",
       "2            7       1786           2         608          920       920   \n",
       "3            7       1717           3         642          756       961   \n",
       "4            8       2198           3         836         1145      1145   \n",
       "\n",
       "   FullBath  TotRmsAbvGrd  YearBuilt  YearRemodAdd  \n",
       "0         2             8       2003          2003  \n",
       "1         2             6       1976          1976  \n",
       "2         2             6       2001          2002  \n",
       "3         1             7       1915          1970  \n",
       "4         2             9       2000          2000  "
      ]
     },
     "execution_count": 10,
     "metadata": {},
     "output_type": "execute_result"
    }
   ],
   "source": [
    "# Create X (After completing the exercise, you can return to modify this line!)\n",
    "features = top_features.copy()\n",
    "\n",
    "# Select columns corresponding to features, and preview the data\n",
    "X = home_data[features]\n",
    "X.head()"
   ]
  },
  {
   "cell_type": "markdown",
   "id": "66c49757",
   "metadata": {
    "papermill": {
     "duration": 0.008167,
     "end_time": "2023-12-17T00:31:47.310945",
     "exception": false,
     "start_time": "2023-12-17T00:31:47.302778",
     "status": "completed"
    },
    "tags": []
   },
   "source": [
    "## Split into validation and training data"
   ]
  },
  {
   "cell_type": "code",
   "execution_count": 11,
   "id": "bc9e6bfb",
   "metadata": {
    "execution": {
     "iopub.execute_input": "2023-12-17T00:31:47.329295Z",
     "iopub.status.busy": "2023-12-17T00:31:47.328926Z",
     "iopub.status.idle": "2023-12-17T00:31:47.338989Z",
     "shell.execute_reply": "2023-12-17T00:31:47.337156Z"
    },
    "papermill": {
     "duration": 0.02262,
     "end_time": "2023-12-17T00:31:47.341923",
     "exception": false,
     "start_time": "2023-12-17T00:31:47.319303",
     "status": "completed"
    },
    "tags": []
   },
   "outputs": [],
   "source": [
    "# Split into validation and training data\n",
    "train_X, val_X, train_y, val_y = train_test_split(X, y, random_state=1)"
   ]
  },
  {
   "cell_type": "markdown",
   "id": "2b868970",
   "metadata": {
    "papermill": {
     "duration": 0.008327,
     "end_time": "2023-12-17T00:31:47.358841",
     "exception": false,
     "start_time": "2023-12-17T00:31:47.350514",
     "status": "completed"
    },
    "tags": []
   },
   "source": [
    "## Define the model"
   ]
  },
  {
   "cell_type": "code",
   "execution_count": 12,
   "id": "44d2ec12",
   "metadata": {
    "execution": {
     "iopub.execute_input": "2023-12-17T00:31:47.436852Z",
     "iopub.status.busy": "2023-12-17T00:31:47.436538Z",
     "iopub.status.idle": "2023-12-17T00:31:47.931139Z",
     "shell.execute_reply": "2023-12-17T00:31:47.930456Z"
    },
    "papermill": {
     "duration": 0.505565,
     "end_time": "2023-12-17T00:31:47.932901",
     "exception": false,
     "start_time": "2023-12-17T00:31:47.427336",
     "status": "completed"
    },
    "tags": []
   },
   "outputs": [
    {
     "data": {
      "text/html": [
       "<style>#sk-container-id-1 {color: black;background-color: white;}#sk-container-id-1 pre{padding: 0;}#sk-container-id-1 div.sk-toggleable {background-color: white;}#sk-container-id-1 label.sk-toggleable__label {cursor: pointer;display: block;width: 100%;margin-bottom: 0;padding: 0.3em;box-sizing: border-box;text-align: center;}#sk-container-id-1 label.sk-toggleable__label-arrow:before {content: \"▸\";float: left;margin-right: 0.25em;color: #696969;}#sk-container-id-1 label.sk-toggleable__label-arrow:hover:before {color: black;}#sk-container-id-1 div.sk-estimator:hover label.sk-toggleable__label-arrow:before {color: black;}#sk-container-id-1 div.sk-toggleable__content {max-height: 0;max-width: 0;overflow: hidden;text-align: left;background-color: #f0f8ff;}#sk-container-id-1 div.sk-toggleable__content pre {margin: 0.2em;color: black;border-radius: 0.25em;background-color: #f0f8ff;}#sk-container-id-1 input.sk-toggleable__control:checked~div.sk-toggleable__content {max-height: 200px;max-width: 100%;overflow: auto;}#sk-container-id-1 input.sk-toggleable__control:checked~label.sk-toggleable__label-arrow:before {content: \"▾\";}#sk-container-id-1 div.sk-estimator input.sk-toggleable__control:checked~label.sk-toggleable__label {background-color: #d4ebff;}#sk-container-id-1 div.sk-label input.sk-toggleable__control:checked~label.sk-toggleable__label {background-color: #d4ebff;}#sk-container-id-1 input.sk-hidden--visually {border: 0;clip: rect(1px 1px 1px 1px);clip: rect(1px, 1px, 1px, 1px);height: 1px;margin: -1px;overflow: hidden;padding: 0;position: absolute;width: 1px;}#sk-container-id-1 div.sk-estimator {font-family: monospace;background-color: #f0f8ff;border: 1px dotted black;border-radius: 0.25em;box-sizing: border-box;margin-bottom: 0.5em;}#sk-container-id-1 div.sk-estimator:hover {background-color: #d4ebff;}#sk-container-id-1 div.sk-parallel-item::after {content: \"\";width: 100%;border-bottom: 1px solid gray;flex-grow: 1;}#sk-container-id-1 div.sk-label:hover label.sk-toggleable__label {background-color: #d4ebff;}#sk-container-id-1 div.sk-serial::before {content: \"\";position: absolute;border-left: 1px solid gray;box-sizing: border-box;top: 0;bottom: 0;left: 50%;z-index: 0;}#sk-container-id-1 div.sk-serial {display: flex;flex-direction: column;align-items: center;background-color: white;padding-right: 0.2em;padding-left: 0.2em;position: relative;}#sk-container-id-1 div.sk-item {position: relative;z-index: 1;}#sk-container-id-1 div.sk-parallel {display: flex;align-items: stretch;justify-content: center;background-color: white;position: relative;}#sk-container-id-1 div.sk-item::before, #sk-container-id-1 div.sk-parallel-item::before {content: \"\";position: absolute;border-left: 1px solid gray;box-sizing: border-box;top: 0;bottom: 0;left: 50%;z-index: -1;}#sk-container-id-1 div.sk-parallel-item {display: flex;flex-direction: column;z-index: 1;position: relative;background-color: white;}#sk-container-id-1 div.sk-parallel-item:first-child::after {align-self: flex-end;width: 50%;}#sk-container-id-1 div.sk-parallel-item:last-child::after {align-self: flex-start;width: 50%;}#sk-container-id-1 div.sk-parallel-item:only-child::after {width: 0;}#sk-container-id-1 div.sk-dashed-wrapped {border: 1px dashed gray;margin: 0 0.4em 0.5em 0.4em;box-sizing: border-box;padding-bottom: 0.4em;background-color: white;}#sk-container-id-1 div.sk-label label {font-family: monospace;font-weight: bold;display: inline-block;line-height: 1.2em;}#sk-container-id-1 div.sk-label-container {text-align: center;}#sk-container-id-1 div.sk-container {/* jupyter's `normalize.less` sets `[hidden] { display: none; }` but bootstrap.min.css set `[hidden] { display: none !important; }` so we also need the `!important` here to be able to override the default hidden behavior on the sphinx rendered scikit-learn.org. See: https://github.com/scikit-learn/scikit-learn/issues/21755 */display: inline-block !important;position: relative;}#sk-container-id-1 div.sk-text-repr-fallback {display: none;}</style><div id=\"sk-container-id-1\" class=\"sk-top-container\"><div class=\"sk-text-repr-fallback\"><pre>RandomForestRegressor(random_state=1)</pre><b>In a Jupyter environment, please rerun this cell to show the HTML representation or trust the notebook. <br />On GitHub, the HTML representation is unable to render, please try loading this page with nbviewer.org.</b></div><div class=\"sk-container\" hidden><div class=\"sk-item\"><div class=\"sk-estimator sk-toggleable\"><input class=\"sk-toggleable__control sk-hidden--visually\" id=\"sk-estimator-id-1\" type=\"checkbox\" checked><label for=\"sk-estimator-id-1\" class=\"sk-toggleable__label sk-toggleable__label-arrow\">RandomForestRegressor</label><div class=\"sk-toggleable__content\"><pre>RandomForestRegressor(random_state=1)</pre></div></div></div></div></div>"
      ],
      "text/plain": [
       "RandomForestRegressor(random_state=1)"
      ]
     },
     "execution_count": 12,
     "metadata": {},
     "output_type": "execute_result"
    }
   ],
   "source": [
    "# Define a random forest model\n",
    "rf_model = RandomForestRegressor(random_state=1)\n",
    "# Train the model\n",
    "rf_model.fit(train_X, train_y)"
   ]
  },
  {
   "cell_type": "markdown",
   "id": "a62ab004",
   "metadata": {
    "papermill": {
     "duration": 0.009282,
     "end_time": "2023-12-17T00:31:47.950930",
     "exception": false,
     "start_time": "2023-12-17T00:31:47.941648",
     "status": "completed"
    },
    "tags": []
   },
   "source": [
    "## Evaluate the model"
   ]
  },
  {
   "cell_type": "code",
   "execution_count": 13,
   "id": "aedf4703",
   "metadata": {
    "execution": {
     "iopub.execute_input": "2023-12-17T00:31:47.969844Z",
     "iopub.status.busy": "2023-12-17T00:31:47.969271Z",
     "iopub.status.idle": "2023-12-17T00:31:47.988560Z",
     "shell.execute_reply": "2023-12-17T00:31:47.987723Z"
    },
    "papermill": {
     "duration": 0.032101,
     "end_time": "2023-12-17T00:31:47.991398",
     "exception": false,
     "start_time": "2023-12-17T00:31:47.959297",
     "status": "completed"
    },
    "tags": []
   },
   "outputs": [
    {
     "name": "stdout",
     "output_type": "stream",
     "text": [
      "Validation MAE for Random Forest Model: 19,215\n"
     ]
    }
   ],
   "source": [
    "rf_val_predictions = rf_model.predict(val_X)\n",
    "rf_val_mae = mean_absolute_error(rf_val_predictions, val_y)\n",
    "\n",
    "print(\"Validation MAE for Random Forest Model: {:,.0f}\".format(rf_val_mae))"
   ]
  },
  {
   "cell_type": "markdown",
   "id": "3bfc6f5c",
   "metadata": {
    "papermill": {
     "duration": 0.010712,
     "end_time": "2023-12-17T00:31:48.013912",
     "exception": false,
     "start_time": "2023-12-17T00:31:48.003200",
     "status": "completed"
    },
    "tags": []
   },
   "source": [
    "# Train a model for the competition (full data)"
   ]
  },
  {
   "cell_type": "code",
   "execution_count": 14,
   "id": "e9e9d930",
   "metadata": {
    "execution": {
     "iopub.execute_input": "2023-12-17T00:31:48.037258Z",
     "iopub.status.busy": "2023-12-17T00:31:48.036893Z",
     "iopub.status.idle": "2023-12-17T00:31:48.724102Z",
     "shell.execute_reply": "2023-12-17T00:31:48.722768Z"
    },
    "papermill": {
     "duration": 0.701661,
     "end_time": "2023-12-17T00:31:48.726415",
     "exception": false,
     "start_time": "2023-12-17T00:31:48.024754",
     "status": "completed"
    },
    "tags": []
   },
   "outputs": [
    {
     "data": {
      "text/html": [
       "<style>#sk-container-id-2 {color: black;background-color: white;}#sk-container-id-2 pre{padding: 0;}#sk-container-id-2 div.sk-toggleable {background-color: white;}#sk-container-id-2 label.sk-toggleable__label {cursor: pointer;display: block;width: 100%;margin-bottom: 0;padding: 0.3em;box-sizing: border-box;text-align: center;}#sk-container-id-2 label.sk-toggleable__label-arrow:before {content: \"▸\";float: left;margin-right: 0.25em;color: #696969;}#sk-container-id-2 label.sk-toggleable__label-arrow:hover:before {color: black;}#sk-container-id-2 div.sk-estimator:hover label.sk-toggleable__label-arrow:before {color: black;}#sk-container-id-2 div.sk-toggleable__content {max-height: 0;max-width: 0;overflow: hidden;text-align: left;background-color: #f0f8ff;}#sk-container-id-2 div.sk-toggleable__content pre {margin: 0.2em;color: black;border-radius: 0.25em;background-color: #f0f8ff;}#sk-container-id-2 input.sk-toggleable__control:checked~div.sk-toggleable__content {max-height: 200px;max-width: 100%;overflow: auto;}#sk-container-id-2 input.sk-toggleable__control:checked~label.sk-toggleable__label-arrow:before {content: \"▾\";}#sk-container-id-2 div.sk-estimator input.sk-toggleable__control:checked~label.sk-toggleable__label {background-color: #d4ebff;}#sk-container-id-2 div.sk-label input.sk-toggleable__control:checked~label.sk-toggleable__label {background-color: #d4ebff;}#sk-container-id-2 input.sk-hidden--visually {border: 0;clip: rect(1px 1px 1px 1px);clip: rect(1px, 1px, 1px, 1px);height: 1px;margin: -1px;overflow: hidden;padding: 0;position: absolute;width: 1px;}#sk-container-id-2 div.sk-estimator {font-family: monospace;background-color: #f0f8ff;border: 1px dotted black;border-radius: 0.25em;box-sizing: border-box;margin-bottom: 0.5em;}#sk-container-id-2 div.sk-estimator:hover {background-color: #d4ebff;}#sk-container-id-2 div.sk-parallel-item::after {content: \"\";width: 100%;border-bottom: 1px solid gray;flex-grow: 1;}#sk-container-id-2 div.sk-label:hover label.sk-toggleable__label {background-color: #d4ebff;}#sk-container-id-2 div.sk-serial::before {content: \"\";position: absolute;border-left: 1px solid gray;box-sizing: border-box;top: 0;bottom: 0;left: 50%;z-index: 0;}#sk-container-id-2 div.sk-serial {display: flex;flex-direction: column;align-items: center;background-color: white;padding-right: 0.2em;padding-left: 0.2em;position: relative;}#sk-container-id-2 div.sk-item {position: relative;z-index: 1;}#sk-container-id-2 div.sk-parallel {display: flex;align-items: stretch;justify-content: center;background-color: white;position: relative;}#sk-container-id-2 div.sk-item::before, #sk-container-id-2 div.sk-parallel-item::before {content: \"\";position: absolute;border-left: 1px solid gray;box-sizing: border-box;top: 0;bottom: 0;left: 50%;z-index: -1;}#sk-container-id-2 div.sk-parallel-item {display: flex;flex-direction: column;z-index: 1;position: relative;background-color: white;}#sk-container-id-2 div.sk-parallel-item:first-child::after {align-self: flex-end;width: 50%;}#sk-container-id-2 div.sk-parallel-item:last-child::after {align-self: flex-start;width: 50%;}#sk-container-id-2 div.sk-parallel-item:only-child::after {width: 0;}#sk-container-id-2 div.sk-dashed-wrapped {border: 1px dashed gray;margin: 0 0.4em 0.5em 0.4em;box-sizing: border-box;padding-bottom: 0.4em;background-color: white;}#sk-container-id-2 div.sk-label label {font-family: monospace;font-weight: bold;display: inline-block;line-height: 1.2em;}#sk-container-id-2 div.sk-label-container {text-align: center;}#sk-container-id-2 div.sk-container {/* jupyter's `normalize.less` sets `[hidden] { display: none; }` but bootstrap.min.css set `[hidden] { display: none !important; }` so we also need the `!important` here to be able to override the default hidden behavior on the sphinx rendered scikit-learn.org. See: https://github.com/scikit-learn/scikit-learn/issues/21755 */display: inline-block !important;position: relative;}#sk-container-id-2 div.sk-text-repr-fallback {display: none;}</style><div id=\"sk-container-id-2\" class=\"sk-top-container\"><div class=\"sk-text-repr-fallback\"><pre>RandomForestRegressor(random_state=1)</pre><b>In a Jupyter environment, please rerun this cell to show the HTML representation or trust the notebook. <br />On GitHub, the HTML representation is unable to render, please try loading this page with nbviewer.org.</b></div><div class=\"sk-container\" hidden><div class=\"sk-item\"><div class=\"sk-estimator sk-toggleable\"><input class=\"sk-toggleable__control sk-hidden--visually\" id=\"sk-estimator-id-2\" type=\"checkbox\" checked><label for=\"sk-estimator-id-2\" class=\"sk-toggleable__label sk-toggleable__label-arrow\">RandomForestRegressor</label><div class=\"sk-toggleable__content\"><pre>RandomForestRegressor(random_state=1)</pre></div></div></div></div></div>"
      ],
      "text/plain": [
       "RandomForestRegressor(random_state=1)"
      ]
     },
     "execution_count": 14,
     "metadata": {},
     "output_type": "execute_result"
    }
   ],
   "source": [
    "# Define model\n",
    "rf_model_on_full_data = RandomForestRegressor(random_state=1)\n",
    "\n",
    "# Train model\n",
    "rf_model_on_full_data.fit(X, y)"
   ]
  },
  {
   "cell_type": "markdown",
   "id": "6164db62",
   "metadata": {
    "papermill": {
     "duration": 0.009266,
     "end_time": "2023-12-17T00:31:48.744638",
     "exception": false,
     "start_time": "2023-12-17T00:31:48.735372",
     "status": "completed"
    },
    "tags": []
   },
   "source": [
    "## Load the test data"
   ]
  },
  {
   "cell_type": "code",
   "execution_count": 15,
   "id": "4060190a",
   "metadata": {
    "execution": {
     "iopub.execute_input": "2023-12-17T00:31:48.764145Z",
     "iopub.status.busy": "2023-12-17T00:31:48.763773Z",
     "iopub.status.idle": "2023-12-17T00:31:48.796567Z",
     "shell.execute_reply": "2023-12-17T00:31:48.795043Z"
    },
    "papermill": {
     "duration": 0.045863,
     "end_time": "2023-12-17T00:31:48.799451",
     "exception": false,
     "start_time": "2023-12-17T00:31:48.753588",
     "status": "completed"
    },
    "tags": []
   },
   "outputs": [],
   "source": [
    "# path to file you will use for predictions\n",
    "test_data_path = '../input/house-prices-advanced-regression-techniques/test.csv'\n",
    "\n",
    "# read test data file using pandas\n",
    "test_data = pd.read_csv(test_data_path)"
   ]
  },
  {
   "cell_type": "code",
   "execution_count": 16,
   "id": "60e37c9c",
   "metadata": {
    "execution": {
     "iopub.execute_input": "2023-12-17T00:31:48.818384Z",
     "iopub.status.busy": "2023-12-17T00:31:48.818029Z",
     "iopub.status.idle": "2023-12-17T00:31:48.824710Z",
     "shell.execute_reply": "2023-12-17T00:31:48.822785Z"
    },
    "papermill": {
     "duration": 0.019,
     "end_time": "2023-12-17T00:31:48.827341",
     "exception": false,
     "start_time": "2023-12-17T00:31:48.808341",
     "status": "completed"
    },
    "tags": []
   },
   "outputs": [],
   "source": [
    "# create test_X which comes from test_data but includes only the columns you used for prediction.\n",
    "# The list of columns is stored in a variable called features\n",
    "test_X = test_data[features]"
   ]
  },
  {
   "cell_type": "markdown",
   "id": "9b85f470",
   "metadata": {
    "papermill": {
     "duration": 0.008197,
     "end_time": "2023-12-17T00:31:48.844524",
     "exception": false,
     "start_time": "2023-12-17T00:31:48.836327",
     "status": "completed"
    },
    "tags": []
   },
   "source": [
    "## Handling the Missing Values"
   ]
  },
  {
   "cell_type": "code",
   "execution_count": 17,
   "id": "8ef777e2",
   "metadata": {
    "execution": {
     "iopub.execute_input": "2023-12-17T00:31:48.863091Z",
     "iopub.status.busy": "2023-12-17T00:31:48.862597Z",
     "iopub.status.idle": "2023-12-17T00:31:48.875216Z",
     "shell.execute_reply": "2023-12-17T00:31:48.873555Z"
    },
    "papermill": {
     "duration": 0.024367,
     "end_time": "2023-12-17T00:31:48.877216",
     "exception": false,
     "start_time": "2023-12-17T00:31:48.852849",
     "status": "completed"
    },
    "tags": []
   },
   "outputs": [
    {
     "name": "stdout",
     "output_type": "stream",
     "text": [
      "<class 'pandas.core.frame.DataFrame'>\n",
      "RangeIndex: 1459 entries, 0 to 1458\n",
      "Data columns (total 10 columns):\n",
      " #   Column        Non-Null Count  Dtype  \n",
      "---  ------        --------------  -----  \n",
      " 0   OverallQual   1459 non-null   int64  \n",
      " 1   GrLivArea     1459 non-null   int64  \n",
      " 2   GarageCars    1458 non-null   float64\n",
      " 3   GarageArea    1458 non-null   float64\n",
      " 4   TotalBsmtSF   1458 non-null   float64\n",
      " 5   1stFlrSF      1459 non-null   int64  \n",
      " 6   FullBath      1459 non-null   int64  \n",
      " 7   TotRmsAbvGrd  1459 non-null   int64  \n",
      " 8   YearBuilt     1459 non-null   int64  \n",
      " 9   YearRemodAdd  1459 non-null   int64  \n",
      "dtypes: float64(3), int64(7)\n",
      "memory usage: 114.1 KB\n"
     ]
    }
   ],
   "source": [
    "# Check for missing values\n",
    "test_X[top_features].info()"
   ]
  },
  {
   "cell_type": "code",
   "execution_count": 18,
   "id": "26e082c4",
   "metadata": {
    "execution": {
     "iopub.execute_input": "2023-12-17T00:31:48.897083Z",
     "iopub.status.busy": "2023-12-17T00:31:48.896740Z",
     "iopub.status.idle": "2023-12-17T00:31:48.902662Z",
     "shell.execute_reply": "2023-12-17T00:31:48.901254Z"
    },
    "papermill": {
     "duration": 0.018792,
     "end_time": "2023-12-17T00:31:48.904955",
     "exception": false,
     "start_time": "2023-12-17T00:31:48.886163",
     "status": "completed"
    },
    "tags": []
   },
   "outputs": [
    {
     "name": "stderr",
     "output_type": "stream",
     "text": [
      "/tmp/ipykernel_19/3247490302.py:2: SettingWithCopyWarning: \n",
      "A value is trying to be set on a copy of a slice from a DataFrame\n",
      "\n",
      "See the caveats in the documentation: https://pandas.pydata.org/pandas-docs/stable/user_guide/indexing.html#returning-a-view-versus-a-copy\n",
      "  test_X.fillna(0, inplace = True)\n"
     ]
    }
   ],
   "source": [
    "# Fill missing values\n",
    "test_X.fillna(0, inplace = True)"
   ]
  },
  {
   "cell_type": "markdown",
   "id": "32d38baf",
   "metadata": {
    "papermill": {
     "duration": 0.008772,
     "end_time": "2023-12-17T00:31:48.923338",
     "exception": false,
     "start_time": "2023-12-17T00:31:48.914566",
     "status": "completed"
    },
    "tags": []
   },
   "source": [
    "## Make predictions"
   ]
  },
  {
   "cell_type": "code",
   "execution_count": 19,
   "id": "86ffd625",
   "metadata": {
    "execution": {
     "iopub.execute_input": "2023-12-17T00:31:48.943192Z",
     "iopub.status.busy": "2023-12-17T00:31:48.942841Z",
     "iopub.status.idle": "2023-12-17T00:31:48.971066Z",
     "shell.execute_reply": "2023-12-17T00:31:48.969648Z"
    },
    "papermill": {
     "duration": 0.041253,
     "end_time": "2023-12-17T00:31:48.973574",
     "exception": false,
     "start_time": "2023-12-17T00:31:48.932321",
     "status": "completed"
    },
    "tags": []
   },
   "outputs": [],
   "source": [
    "# make predictions which we will submit. \n",
    "test_preds = rf_model_on_full_data.predict(test_X)"
   ]
  },
  {
   "cell_type": "markdown",
   "id": "96cbbda7",
   "metadata": {
    "papermill": {
     "duration": 0.008968,
     "end_time": "2023-12-17T00:31:48.991942",
     "exception": false,
     "start_time": "2023-12-17T00:31:48.982974",
     "status": "completed"
    },
    "tags": []
   },
   "source": [
    "## Generate a submission"
   ]
  },
  {
   "cell_type": "code",
   "execution_count": 20,
   "id": "a02e65c6",
   "metadata": {
    "execution": {
     "iopub.execute_input": "2023-12-17T00:31:49.011736Z",
     "iopub.status.busy": "2023-12-17T00:31:49.011356Z",
     "iopub.status.idle": "2023-12-17T00:31:49.023536Z",
     "shell.execute_reply": "2023-12-17T00:31:49.021949Z"
    },
    "papermill": {
     "duration": 0.026217,
     "end_time": "2023-12-17T00:31:49.027109",
     "exception": false,
     "start_time": "2023-12-17T00:31:49.000892",
     "status": "completed"
    },
    "tags": []
   },
   "outputs": [],
   "source": [
    "# Run the code to save predictions in the format used for competition scoring\n",
    "\n",
    "output = pd.DataFrame({'Id': test_data.Id,\n",
    "                       'SalePrice': test_preds})\n",
    "output.to_csv('submission.csv', index=False)"
   ]
  },
  {
   "cell_type": "code",
   "execution_count": null,
   "id": "8df833ef",
   "metadata": {
    "papermill": {
     "duration": 0.008715,
     "end_time": "2023-12-17T00:31:49.045174",
     "exception": false,
     "start_time": "2023-12-17T00:31:49.036459",
     "status": "completed"
    },
    "tags": []
   },
   "outputs": [],
   "source": []
  }
 ],
 "metadata": {
  "kaggle": {
   "accelerator": "none",
   "dataSources": [
    {
     "databundleVersionId": 868283,
     "sourceId": 5407,
     "sourceType": "competition"
    }
   ],
   "dockerImageVersionId": 30615,
   "isGpuEnabled": false,
   "isInternetEnabled": true,
   "language": "python",
   "sourceType": "notebook"
  },
  "kernelspec": {
   "display_name": "Python 3",
   "language": "python",
   "name": "python3"
  },
  "language_info": {
   "codemirror_mode": {
    "name": "ipython",
    "version": 3
   },
   "file_extension": ".py",
   "mimetype": "text/x-python",
   "name": "python",
   "nbconvert_exporter": "python",
   "pygments_lexer": "ipython3",
   "version": "3.10.12"
  },
  "papermill": {
   "default_parameters": {},
   "duration": 9.121355,
   "end_time": "2023-12-17T00:31:49.677678",
   "environment_variables": {},
   "exception": null,
   "input_path": "__notebook__.ipynb",
   "output_path": "__notebook__.ipynb",
   "parameters": {},
   "start_time": "2023-12-17T00:31:40.556323",
   "version": "2.4.0"
  }
 },
 "nbformat": 4,
 "nbformat_minor": 5
}
