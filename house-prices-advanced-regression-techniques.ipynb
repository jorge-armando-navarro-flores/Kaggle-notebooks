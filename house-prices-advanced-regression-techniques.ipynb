{
 "cells": [
  {
   "cell_type": "markdown",
   "id": "c78b82f1",
   "metadata": {
    "papermill": {
     "duration": 0.005023,
     "end_time": "2023-12-10T23:41:11.394612",
     "exception": false,
     "start_time": "2023-12-10T23:41:11.389589",
     "status": "completed"
    },
    "tags": []
   },
   "source": [
    "# Setup"
   ]
  },
  {
   "cell_type": "code",
   "execution_count": 1,
   "id": "749f4275",
   "metadata": {
    "_cell_guid": "b1076dfc-b9ad-4769-8c92-a6c4dae69d19",
    "_uuid": "8f2839f25d086af736a60e9eeb907d3b93b6e0e5",
    "execution": {
     "iopub.execute_input": "2023-12-10T23:41:11.405107Z",
     "iopub.status.busy": "2023-12-10T23:41:11.404799Z",
     "iopub.status.idle": "2023-12-10T23:41:11.416290Z",
     "shell.execute_reply": "2023-12-10T23:41:11.415038Z"
    },
    "papermill": {
     "duration": 0.01899,
     "end_time": "2023-12-10T23:41:11.418225",
     "exception": false,
     "start_time": "2023-12-10T23:41:11.399235",
     "status": "completed"
    },
    "tags": []
   },
   "outputs": [
    {
     "name": "stdout",
     "output_type": "stream",
     "text": [
      "/kaggle/input/house-prices-advanced-regression-techniques/sample_submission.csv\n",
      "/kaggle/input/house-prices-advanced-regression-techniques/data_description.txt\n",
      "/kaggle/input/house-prices-advanced-regression-techniques/train.csv\n",
      "/kaggle/input/house-prices-advanced-regression-techniques/test.csv\n"
     ]
    }
   ],
   "source": [
    "import os\n",
    "for dirname, _, filenames in os.walk('/kaggle/input'):\n",
    "    for filename in filenames:\n",
    "        print(os.path.join(dirname, filename))"
   ]
  },
  {
   "cell_type": "markdown",
   "id": "6873d2e0",
   "metadata": {
    "papermill": {
     "duration": 0.004406,
     "end_time": "2023-12-10T23:41:11.427450",
     "exception": false,
     "start_time": "2023-12-10T23:41:11.423044",
     "status": "completed"
    },
    "tags": []
   },
   "source": [
    "## Import helpful libraries"
   ]
  },
  {
   "cell_type": "code",
   "execution_count": 2,
   "id": "fc2d401e",
   "metadata": {
    "execution": {
     "iopub.execute_input": "2023-12-10T23:41:11.438165Z",
     "iopub.status.busy": "2023-12-10T23:41:11.437843Z",
     "iopub.status.idle": "2023-12-10T23:41:13.212531Z",
     "shell.execute_reply": "2023-12-10T23:41:13.211382Z"
    },
    "papermill": {
     "duration": 1.783146,
     "end_time": "2023-12-10T23:41:13.215099",
     "exception": false,
     "start_time": "2023-12-10T23:41:11.431953",
     "status": "completed"
    },
    "tags": []
   },
   "outputs": [],
   "source": [
    "# Import helpful libraries\n",
    "import pandas as pd\n",
    "from sklearn.ensemble import RandomForestRegressor\n",
    "from sklearn.metrics import mean_absolute_error\n",
    "from sklearn.model_selection import train_test_split"
   ]
  },
  {
   "cell_type": "markdown",
   "id": "52933a6e",
   "metadata": {
    "papermill": {
     "duration": 0.004631,
     "end_time": "2023-12-10T23:41:13.224839",
     "exception": false,
     "start_time": "2023-12-10T23:41:13.220208",
     "status": "completed"
    },
    "tags": []
   },
   "source": [
    "# Train a model with train data"
   ]
  },
  {
   "cell_type": "markdown",
   "id": "2bb5fc4f",
   "metadata": {
    "papermill": {
     "duration": 0.004505,
     "end_time": "2023-12-10T23:41:13.234297",
     "exception": false,
     "start_time": "2023-12-10T23:41:13.229792",
     "status": "completed"
    },
    "tags": []
   },
   "source": [
    "## Load the data, and separate the target"
   ]
  },
  {
   "cell_type": "code",
   "execution_count": 3,
   "id": "f9bb27c9",
   "metadata": {
    "execution": {
     "iopub.execute_input": "2023-12-10T23:41:13.245832Z",
     "iopub.status.busy": "2023-12-10T23:41:13.245324Z",
     "iopub.status.idle": "2023-12-10T23:41:13.295494Z",
     "shell.execute_reply": "2023-12-10T23:41:13.294061Z"
    },
    "papermill": {
     "duration": 0.058726,
     "end_time": "2023-12-10T23:41:13.297819",
     "exception": false,
     "start_time": "2023-12-10T23:41:13.239093",
     "status": "completed"
    },
    "tags": []
   },
   "outputs": [],
   "source": [
    "# Load the data, and separate the target\n",
    "iowa_file_path = '../input/house-prices-advanced-regression-techniques/train.csv'\n",
    "home_data = pd.read_csv(iowa_file_path)\n",
    "y = home_data.SalePrice"
   ]
  },
  {
   "cell_type": "markdown",
   "id": "95911527",
   "metadata": {
    "papermill": {
     "duration": 0.004518,
     "end_time": "2023-12-10T23:41:13.307361",
     "exception": false,
     "start_time": "2023-12-10T23:41:13.302843",
     "status": "completed"
    },
    "tags": []
   },
   "source": [
    "## Create X with selected features"
   ]
  },
  {
   "cell_type": "code",
   "execution_count": 4,
   "id": "80b4057b",
   "metadata": {
    "execution": {
     "iopub.execute_input": "2023-12-10T23:41:13.318999Z",
     "iopub.status.busy": "2023-12-10T23:41:13.318612Z",
     "iopub.status.idle": "2023-12-10T23:41:13.343633Z",
     "shell.execute_reply": "2023-12-10T23:41:13.342469Z"
    },
    "papermill": {
     "duration": 0.03327,
     "end_time": "2023-12-10T23:41:13.345616",
     "exception": false,
     "start_time": "2023-12-10T23:41:13.312346",
     "status": "completed"
    },
    "tags": []
   },
   "outputs": [
    {
     "data": {
      "text/html": [
       "<div>\n",
       "<style scoped>\n",
       "    .dataframe tbody tr th:only-of-type {\n",
       "        vertical-align: middle;\n",
       "    }\n",
       "\n",
       "    .dataframe tbody tr th {\n",
       "        vertical-align: top;\n",
       "    }\n",
       "\n",
       "    .dataframe thead th {\n",
       "        text-align: right;\n",
       "    }\n",
       "</style>\n",
       "<table border=\"1\" class=\"dataframe\">\n",
       "  <thead>\n",
       "    <tr style=\"text-align: right;\">\n",
       "      <th></th>\n",
       "      <th>LotArea</th>\n",
       "      <th>YearBuilt</th>\n",
       "      <th>1stFlrSF</th>\n",
       "      <th>2ndFlrSF</th>\n",
       "      <th>FullBath</th>\n",
       "      <th>BedroomAbvGr</th>\n",
       "      <th>TotRmsAbvGrd</th>\n",
       "    </tr>\n",
       "  </thead>\n",
       "  <tbody>\n",
       "    <tr>\n",
       "      <th>0</th>\n",
       "      <td>8450</td>\n",
       "      <td>2003</td>\n",
       "      <td>856</td>\n",
       "      <td>854</td>\n",
       "      <td>2</td>\n",
       "      <td>3</td>\n",
       "      <td>8</td>\n",
       "    </tr>\n",
       "    <tr>\n",
       "      <th>1</th>\n",
       "      <td>9600</td>\n",
       "      <td>1976</td>\n",
       "      <td>1262</td>\n",
       "      <td>0</td>\n",
       "      <td>2</td>\n",
       "      <td>3</td>\n",
       "      <td>6</td>\n",
       "    </tr>\n",
       "    <tr>\n",
       "      <th>2</th>\n",
       "      <td>11250</td>\n",
       "      <td>2001</td>\n",
       "      <td>920</td>\n",
       "      <td>866</td>\n",
       "      <td>2</td>\n",
       "      <td>3</td>\n",
       "      <td>6</td>\n",
       "    </tr>\n",
       "    <tr>\n",
       "      <th>3</th>\n",
       "      <td>9550</td>\n",
       "      <td>1915</td>\n",
       "      <td>961</td>\n",
       "      <td>756</td>\n",
       "      <td>1</td>\n",
       "      <td>3</td>\n",
       "      <td>7</td>\n",
       "    </tr>\n",
       "    <tr>\n",
       "      <th>4</th>\n",
       "      <td>14260</td>\n",
       "      <td>2000</td>\n",
       "      <td>1145</td>\n",
       "      <td>1053</td>\n",
       "      <td>2</td>\n",
       "      <td>4</td>\n",
       "      <td>9</td>\n",
       "    </tr>\n",
       "  </tbody>\n",
       "</table>\n",
       "</div>"
      ],
      "text/plain": [
       "   LotArea  YearBuilt  1stFlrSF  2ndFlrSF  FullBath  BedroomAbvGr  \\\n",
       "0     8450       2003       856       854         2             3   \n",
       "1     9600       1976      1262         0         2             3   \n",
       "2    11250       2001       920       866         2             3   \n",
       "3     9550       1915       961       756         1             3   \n",
       "4    14260       2000      1145      1053         2             4   \n",
       "\n",
       "   TotRmsAbvGrd  \n",
       "0             8  \n",
       "1             6  \n",
       "2             6  \n",
       "3             7  \n",
       "4             9  "
      ]
     },
     "execution_count": 4,
     "metadata": {},
     "output_type": "execute_result"
    }
   ],
   "source": [
    "# Create X (After completing the exercise, you can return to modify this line!)\n",
    "features = ['LotArea', 'YearBuilt', '1stFlrSF', '2ndFlrSF', 'FullBath', 'BedroomAbvGr', 'TotRmsAbvGrd']\n",
    "\n",
    "# Select columns corresponding to features, and preview the data\n",
    "X = home_data[features]\n",
    "X.head()"
   ]
  },
  {
   "cell_type": "markdown",
   "id": "45958fd2",
   "metadata": {
    "papermill": {
     "duration": 0.00489,
     "end_time": "2023-12-10T23:41:13.355730",
     "exception": false,
     "start_time": "2023-12-10T23:41:13.350840",
     "status": "completed"
    },
    "tags": []
   },
   "source": [
    "## Split into validation and training data"
   ]
  },
  {
   "cell_type": "code",
   "execution_count": 5,
   "id": "58beecea",
   "metadata": {
    "execution": {
     "iopub.execute_input": "2023-12-10T23:41:13.368073Z",
     "iopub.status.busy": "2023-12-10T23:41:13.367748Z",
     "iopub.status.idle": "2023-12-10T23:41:13.374651Z",
     "shell.execute_reply": "2023-12-10T23:41:13.373545Z"
    },
    "papermill": {
     "duration": 0.015306,
     "end_time": "2023-12-10T23:41:13.376691",
     "exception": false,
     "start_time": "2023-12-10T23:41:13.361385",
     "status": "completed"
    },
    "tags": []
   },
   "outputs": [],
   "source": [
    "# Split into validation and training data\n",
    "train_X, val_X, train_y, val_y = train_test_split(X, y, random_state=1)"
   ]
  },
  {
   "cell_type": "markdown",
   "id": "1951ab5d",
   "metadata": {
    "papermill": {
     "duration": 0.00493,
     "end_time": "2023-12-10T23:41:13.386803",
     "exception": false,
     "start_time": "2023-12-10T23:41:13.381873",
     "status": "completed"
    },
    "tags": []
   },
   "source": [
    "## Define the model"
   ]
  },
  {
   "cell_type": "code",
   "execution_count": 6,
   "id": "2fd7b6e0",
   "metadata": {
    "execution": {
     "iopub.execute_input": "2023-12-10T23:41:13.398653Z",
     "iopub.status.busy": "2023-12-10T23:41:13.398302Z",
     "iopub.status.idle": "2023-12-10T23:41:13.770884Z",
     "shell.execute_reply": "2023-12-10T23:41:13.769786Z"
    },
    "papermill": {
     "duration": 0.381307,
     "end_time": "2023-12-10T23:41:13.773215",
     "exception": false,
     "start_time": "2023-12-10T23:41:13.391908",
     "status": "completed"
    },
    "tags": []
   },
   "outputs": [
    {
     "data": {
      "text/html": [
       "<style>#sk-container-id-1 {color: black;background-color: white;}#sk-container-id-1 pre{padding: 0;}#sk-container-id-1 div.sk-toggleable {background-color: white;}#sk-container-id-1 label.sk-toggleable__label {cursor: pointer;display: block;width: 100%;margin-bottom: 0;padding: 0.3em;box-sizing: border-box;text-align: center;}#sk-container-id-1 label.sk-toggleable__label-arrow:before {content: \"▸\";float: left;margin-right: 0.25em;color: #696969;}#sk-container-id-1 label.sk-toggleable__label-arrow:hover:before {color: black;}#sk-container-id-1 div.sk-estimator:hover label.sk-toggleable__label-arrow:before {color: black;}#sk-container-id-1 div.sk-toggleable__content {max-height: 0;max-width: 0;overflow: hidden;text-align: left;background-color: #f0f8ff;}#sk-container-id-1 div.sk-toggleable__content pre {margin: 0.2em;color: black;border-radius: 0.25em;background-color: #f0f8ff;}#sk-container-id-1 input.sk-toggleable__control:checked~div.sk-toggleable__content {max-height: 200px;max-width: 100%;overflow: auto;}#sk-container-id-1 input.sk-toggleable__control:checked~label.sk-toggleable__label-arrow:before {content: \"▾\";}#sk-container-id-1 div.sk-estimator input.sk-toggleable__control:checked~label.sk-toggleable__label {background-color: #d4ebff;}#sk-container-id-1 div.sk-label input.sk-toggleable__control:checked~label.sk-toggleable__label {background-color: #d4ebff;}#sk-container-id-1 input.sk-hidden--visually {border: 0;clip: rect(1px 1px 1px 1px);clip: rect(1px, 1px, 1px, 1px);height: 1px;margin: -1px;overflow: hidden;padding: 0;position: absolute;width: 1px;}#sk-container-id-1 div.sk-estimator {font-family: monospace;background-color: #f0f8ff;border: 1px dotted black;border-radius: 0.25em;box-sizing: border-box;margin-bottom: 0.5em;}#sk-container-id-1 div.sk-estimator:hover {background-color: #d4ebff;}#sk-container-id-1 div.sk-parallel-item::after {content: \"\";width: 100%;border-bottom: 1px solid gray;flex-grow: 1;}#sk-container-id-1 div.sk-label:hover label.sk-toggleable__label {background-color: #d4ebff;}#sk-container-id-1 div.sk-serial::before {content: \"\";position: absolute;border-left: 1px solid gray;box-sizing: border-box;top: 0;bottom: 0;left: 50%;z-index: 0;}#sk-container-id-1 div.sk-serial {display: flex;flex-direction: column;align-items: center;background-color: white;padding-right: 0.2em;padding-left: 0.2em;position: relative;}#sk-container-id-1 div.sk-item {position: relative;z-index: 1;}#sk-container-id-1 div.sk-parallel {display: flex;align-items: stretch;justify-content: center;background-color: white;position: relative;}#sk-container-id-1 div.sk-item::before, #sk-container-id-1 div.sk-parallel-item::before {content: \"\";position: absolute;border-left: 1px solid gray;box-sizing: border-box;top: 0;bottom: 0;left: 50%;z-index: -1;}#sk-container-id-1 div.sk-parallel-item {display: flex;flex-direction: column;z-index: 1;position: relative;background-color: white;}#sk-container-id-1 div.sk-parallel-item:first-child::after {align-self: flex-end;width: 50%;}#sk-container-id-1 div.sk-parallel-item:last-child::after {align-self: flex-start;width: 50%;}#sk-container-id-1 div.sk-parallel-item:only-child::after {width: 0;}#sk-container-id-1 div.sk-dashed-wrapped {border: 1px dashed gray;margin: 0 0.4em 0.5em 0.4em;box-sizing: border-box;padding-bottom: 0.4em;background-color: white;}#sk-container-id-1 div.sk-label label {font-family: monospace;font-weight: bold;display: inline-block;line-height: 1.2em;}#sk-container-id-1 div.sk-label-container {text-align: center;}#sk-container-id-1 div.sk-container {/* jupyter's `normalize.less` sets `[hidden] { display: none; }` but bootstrap.min.css set `[hidden] { display: none !important; }` so we also need the `!important` here to be able to override the default hidden behavior on the sphinx rendered scikit-learn.org. See: https://github.com/scikit-learn/scikit-learn/issues/21755 */display: inline-block !important;position: relative;}#sk-container-id-1 div.sk-text-repr-fallback {display: none;}</style><div id=\"sk-container-id-1\" class=\"sk-top-container\"><div class=\"sk-text-repr-fallback\"><pre>RandomForestRegressor(random_state=1)</pre><b>In a Jupyter environment, please rerun this cell to show the HTML representation or trust the notebook. <br />On GitHub, the HTML representation is unable to render, please try loading this page with nbviewer.org.</b></div><div class=\"sk-container\" hidden><div class=\"sk-item\"><div class=\"sk-estimator sk-toggleable\"><input class=\"sk-toggleable__control sk-hidden--visually\" id=\"sk-estimator-id-1\" type=\"checkbox\" checked><label for=\"sk-estimator-id-1\" class=\"sk-toggleable__label sk-toggleable__label-arrow\">RandomForestRegressor</label><div class=\"sk-toggleable__content\"><pre>RandomForestRegressor(random_state=1)</pre></div></div></div></div></div>"
      ],
      "text/plain": [
       "RandomForestRegressor(random_state=1)"
      ]
     },
     "execution_count": 6,
     "metadata": {},
     "output_type": "execute_result"
    }
   ],
   "source": [
    "# Define a random forest model\n",
    "rf_model = RandomForestRegressor(random_state=1)\n",
    "# Train the model\n",
    "rf_model.fit(train_X, train_y)"
   ]
  },
  {
   "cell_type": "markdown",
   "id": "242759bf",
   "metadata": {
    "papermill": {
     "duration": 0.005247,
     "end_time": "2023-12-10T23:41:13.784011",
     "exception": false,
     "start_time": "2023-12-10T23:41:13.778764",
     "status": "completed"
    },
    "tags": []
   },
   "source": [
    "## Evaluate the model"
   ]
  },
  {
   "cell_type": "code",
   "execution_count": 7,
   "id": "cd559369",
   "metadata": {
    "execution": {
     "iopub.execute_input": "2023-12-10T23:41:13.795892Z",
     "iopub.status.busy": "2023-12-10T23:41:13.795520Z",
     "iopub.status.idle": "2023-12-10T23:41:13.812661Z",
     "shell.execute_reply": "2023-12-10T23:41:13.811740Z"
    },
    "papermill": {
     "duration": 0.02507,
     "end_time": "2023-12-10T23:41:13.814298",
     "exception": false,
     "start_time": "2023-12-10T23:41:13.789228",
     "status": "completed"
    },
    "tags": []
   },
   "outputs": [
    {
     "name": "stdout",
     "output_type": "stream",
     "text": [
      "Validation MAE for Random Forest Model: 21,857\n"
     ]
    }
   ],
   "source": [
    "rf_val_predictions = rf_model.predict(val_X)\n",
    "rf_val_mae = mean_absolute_error(rf_val_predictions, val_y)\n",
    "\n",
    "print(\"Validation MAE for Random Forest Model: {:,.0f}\".format(rf_val_mae))"
   ]
  },
  {
   "cell_type": "markdown",
   "id": "b71f51db",
   "metadata": {
    "papermill": {
     "duration": 0.004724,
     "end_time": "2023-12-10T23:41:13.824151",
     "exception": false,
     "start_time": "2023-12-10T23:41:13.819427",
     "status": "completed"
    },
    "tags": []
   },
   "source": [
    "# Train a model for the competition (full data)"
   ]
  },
  {
   "cell_type": "code",
   "execution_count": 8,
   "id": "93c409fa",
   "metadata": {
    "execution": {
     "iopub.execute_input": "2023-12-10T23:41:13.835922Z",
     "iopub.status.busy": "2023-12-10T23:41:13.835596Z",
     "iopub.status.idle": "2023-12-10T23:41:14.294252Z",
     "shell.execute_reply": "2023-12-10T23:41:14.293172Z"
    },
    "papermill": {
     "duration": 0.466883,
     "end_time": "2023-12-10T23:41:14.296045",
     "exception": false,
     "start_time": "2023-12-10T23:41:13.829162",
     "status": "completed"
    },
    "tags": []
   },
   "outputs": [
    {
     "data": {
      "text/html": [
       "<style>#sk-container-id-2 {color: black;background-color: white;}#sk-container-id-2 pre{padding: 0;}#sk-container-id-2 div.sk-toggleable {background-color: white;}#sk-container-id-2 label.sk-toggleable__label {cursor: pointer;display: block;width: 100%;margin-bottom: 0;padding: 0.3em;box-sizing: border-box;text-align: center;}#sk-container-id-2 label.sk-toggleable__label-arrow:before {content: \"▸\";float: left;margin-right: 0.25em;color: #696969;}#sk-container-id-2 label.sk-toggleable__label-arrow:hover:before {color: black;}#sk-container-id-2 div.sk-estimator:hover label.sk-toggleable__label-arrow:before {color: black;}#sk-container-id-2 div.sk-toggleable__content {max-height: 0;max-width: 0;overflow: hidden;text-align: left;background-color: #f0f8ff;}#sk-container-id-2 div.sk-toggleable__content pre {margin: 0.2em;color: black;border-radius: 0.25em;background-color: #f0f8ff;}#sk-container-id-2 input.sk-toggleable__control:checked~div.sk-toggleable__content {max-height: 200px;max-width: 100%;overflow: auto;}#sk-container-id-2 input.sk-toggleable__control:checked~label.sk-toggleable__label-arrow:before {content: \"▾\";}#sk-container-id-2 div.sk-estimator input.sk-toggleable__control:checked~label.sk-toggleable__label {background-color: #d4ebff;}#sk-container-id-2 div.sk-label input.sk-toggleable__control:checked~label.sk-toggleable__label {background-color: #d4ebff;}#sk-container-id-2 input.sk-hidden--visually {border: 0;clip: rect(1px 1px 1px 1px);clip: rect(1px, 1px, 1px, 1px);height: 1px;margin: -1px;overflow: hidden;padding: 0;position: absolute;width: 1px;}#sk-container-id-2 div.sk-estimator {font-family: monospace;background-color: #f0f8ff;border: 1px dotted black;border-radius: 0.25em;box-sizing: border-box;margin-bottom: 0.5em;}#sk-container-id-2 div.sk-estimator:hover {background-color: #d4ebff;}#sk-container-id-2 div.sk-parallel-item::after {content: \"\";width: 100%;border-bottom: 1px solid gray;flex-grow: 1;}#sk-container-id-2 div.sk-label:hover label.sk-toggleable__label {background-color: #d4ebff;}#sk-container-id-2 div.sk-serial::before {content: \"\";position: absolute;border-left: 1px solid gray;box-sizing: border-box;top: 0;bottom: 0;left: 50%;z-index: 0;}#sk-container-id-2 div.sk-serial {display: flex;flex-direction: column;align-items: center;background-color: white;padding-right: 0.2em;padding-left: 0.2em;position: relative;}#sk-container-id-2 div.sk-item {position: relative;z-index: 1;}#sk-container-id-2 div.sk-parallel {display: flex;align-items: stretch;justify-content: center;background-color: white;position: relative;}#sk-container-id-2 div.sk-item::before, #sk-container-id-2 div.sk-parallel-item::before {content: \"\";position: absolute;border-left: 1px solid gray;box-sizing: border-box;top: 0;bottom: 0;left: 50%;z-index: -1;}#sk-container-id-2 div.sk-parallel-item {display: flex;flex-direction: column;z-index: 1;position: relative;background-color: white;}#sk-container-id-2 div.sk-parallel-item:first-child::after {align-self: flex-end;width: 50%;}#sk-container-id-2 div.sk-parallel-item:last-child::after {align-self: flex-start;width: 50%;}#sk-container-id-2 div.sk-parallel-item:only-child::after {width: 0;}#sk-container-id-2 div.sk-dashed-wrapped {border: 1px dashed gray;margin: 0 0.4em 0.5em 0.4em;box-sizing: border-box;padding-bottom: 0.4em;background-color: white;}#sk-container-id-2 div.sk-label label {font-family: monospace;font-weight: bold;display: inline-block;line-height: 1.2em;}#sk-container-id-2 div.sk-label-container {text-align: center;}#sk-container-id-2 div.sk-container {/* jupyter's `normalize.less` sets `[hidden] { display: none; }` but bootstrap.min.css set `[hidden] { display: none !important; }` so we also need the `!important` here to be able to override the default hidden behavior on the sphinx rendered scikit-learn.org. See: https://github.com/scikit-learn/scikit-learn/issues/21755 */display: inline-block !important;position: relative;}#sk-container-id-2 div.sk-text-repr-fallback {display: none;}</style><div id=\"sk-container-id-2\" class=\"sk-top-container\"><div class=\"sk-text-repr-fallback\"><pre>RandomForestRegressor(random_state=1)</pre><b>In a Jupyter environment, please rerun this cell to show the HTML representation or trust the notebook. <br />On GitHub, the HTML representation is unable to render, please try loading this page with nbviewer.org.</b></div><div class=\"sk-container\" hidden><div class=\"sk-item\"><div class=\"sk-estimator sk-toggleable\"><input class=\"sk-toggleable__control sk-hidden--visually\" id=\"sk-estimator-id-2\" type=\"checkbox\" checked><label for=\"sk-estimator-id-2\" class=\"sk-toggleable__label sk-toggleable__label-arrow\">RandomForestRegressor</label><div class=\"sk-toggleable__content\"><pre>RandomForestRegressor(random_state=1)</pre></div></div></div></div></div>"
      ],
      "text/plain": [
       "RandomForestRegressor(random_state=1)"
      ]
     },
     "execution_count": 8,
     "metadata": {},
     "output_type": "execute_result"
    }
   ],
   "source": [
    "# Define model\n",
    "rf_model_on_full_data = RandomForestRegressor(random_state=1)\n",
    "\n",
    "# Train model\n",
    "rf_model_on_full_data.fit(X, y)"
   ]
  },
  {
   "cell_type": "markdown",
   "id": "dd03c3af",
   "metadata": {
    "papermill": {
     "duration": 0.004902,
     "end_time": "2023-12-10T23:41:14.306302",
     "exception": false,
     "start_time": "2023-12-10T23:41:14.301400",
     "status": "completed"
    },
    "tags": []
   },
   "source": [
    "## Load the test data"
   ]
  },
  {
   "cell_type": "code",
   "execution_count": 9,
   "id": "5ced887b",
   "metadata": {
    "execution": {
     "iopub.execute_input": "2023-12-10T23:41:14.318371Z",
     "iopub.status.busy": "2023-12-10T23:41:14.318071Z",
     "iopub.status.idle": "2023-12-10T23:41:14.349794Z",
     "shell.execute_reply": "2023-12-10T23:41:14.349107Z"
    },
    "papermill": {
     "duration": 0.040392,
     "end_time": "2023-12-10T23:41:14.351812",
     "exception": false,
     "start_time": "2023-12-10T23:41:14.311420",
     "status": "completed"
    },
    "tags": []
   },
   "outputs": [],
   "source": [
    "# path to file you will use for predictions\n",
    "test_data_path = '../input/house-prices-advanced-regression-techniques/test.csv'\n",
    "\n",
    "# read test data file using pandas\n",
    "test_data = pd.read_csv(test_data_path)"
   ]
  },
  {
   "cell_type": "markdown",
   "id": "135e5289",
   "metadata": {
    "papermill": {
     "duration": 0.00536,
     "end_time": "2023-12-10T23:41:14.362724",
     "exception": false,
     "start_time": "2023-12-10T23:41:14.357364",
     "status": "completed"
    },
    "tags": []
   },
   "source": [
    "## Create test X with selected features"
   ]
  },
  {
   "cell_type": "code",
   "execution_count": 10,
   "id": "87363595",
   "metadata": {
    "execution": {
     "iopub.execute_input": "2023-12-10T23:41:14.376364Z",
     "iopub.status.busy": "2023-12-10T23:41:14.375510Z",
     "iopub.status.idle": "2023-12-10T23:41:14.380626Z",
     "shell.execute_reply": "2023-12-10T23:41:14.379957Z"
    },
    "papermill": {
     "duration": 0.013426,
     "end_time": "2023-12-10T23:41:14.382225",
     "exception": false,
     "start_time": "2023-12-10T23:41:14.368799",
     "status": "completed"
    },
    "tags": []
   },
   "outputs": [],
   "source": [
    "# create test_X which comes from test_data but includes only the columns you used for prediction.\n",
    "# The list of columns is stored in a variable called features\n",
    "test_X = test_data[features]"
   ]
  },
  {
   "cell_type": "markdown",
   "id": "492b9b47",
   "metadata": {
    "papermill": {
     "duration": 0.004969,
     "end_time": "2023-12-10T23:41:14.392562",
     "exception": false,
     "start_time": "2023-12-10T23:41:14.387593",
     "status": "completed"
    },
    "tags": []
   },
   "source": [
    "## Make predictions"
   ]
  },
  {
   "cell_type": "code",
   "execution_count": 11,
   "id": "c418eba4",
   "metadata": {
    "execution": {
     "iopub.execute_input": "2023-12-10T23:41:14.404724Z",
     "iopub.status.busy": "2023-12-10T23:41:14.404213Z",
     "iopub.status.idle": "2023-12-10T23:41:14.432115Z",
     "shell.execute_reply": "2023-12-10T23:41:14.431134Z"
    },
    "papermill": {
     "duration": 0.036591,
     "end_time": "2023-12-10T23:41:14.434370",
     "exception": false,
     "start_time": "2023-12-10T23:41:14.397779",
     "status": "completed"
    },
    "tags": []
   },
   "outputs": [],
   "source": [
    "# make predictions which we will submit. \n",
    "test_preds = rf_model_on_full_data.predict(test_X)"
   ]
  },
  {
   "cell_type": "markdown",
   "id": "86655cd9",
   "metadata": {
    "papermill": {
     "duration": 0.005212,
     "end_time": "2023-12-10T23:41:14.445097",
     "exception": false,
     "start_time": "2023-12-10T23:41:14.439885",
     "status": "completed"
    },
    "tags": []
   },
   "source": [
    "## Generate a submission"
   ]
  },
  {
   "cell_type": "code",
   "execution_count": 12,
   "id": "e4ffd7d3",
   "metadata": {
    "execution": {
     "iopub.execute_input": "2023-12-10T23:41:14.458131Z",
     "iopub.status.busy": "2023-12-10T23:41:14.457110Z",
     "iopub.status.idle": "2023-12-10T23:41:14.466477Z",
     "shell.execute_reply": "2023-12-10T23:41:14.465840Z"
    },
    "papermill": {
     "duration": 0.017798,
     "end_time": "2023-12-10T23:41:14.468312",
     "exception": false,
     "start_time": "2023-12-10T23:41:14.450514",
     "status": "completed"
    },
    "tags": []
   },
   "outputs": [],
   "source": [
    "# Run the code to save predictions in the format used for competition scoring\n",
    "\n",
    "output = pd.DataFrame({'Id': test_data.Id,\n",
    "                       'SalePrice': test_preds})\n",
    "output.to_csv('submission.csv', index=False)"
   ]
  },
  {
   "cell_type": "code",
   "execution_count": null,
   "id": "323e9d7c",
   "metadata": {
    "papermill": {
     "duration": 0.005076,
     "end_time": "2023-12-10T23:41:14.478849",
     "exception": false,
     "start_time": "2023-12-10T23:41:14.473773",
     "status": "completed"
    },
    "tags": []
   },
   "outputs": [],
   "source": []
  }
 ],
 "metadata": {
  "kaggle": {
   "accelerator": "none",
   "dataSources": [
    {
     "databundleVersionId": 868283,
     "sourceId": 5407,
     "sourceType": "competition"
    }
   ],
   "dockerImageVersionId": 30615,
   "isGpuEnabled": false,
   "isInternetEnabled": true,
   "language": "python",
   "sourceType": "notebook"
  },
  "kernelspec": {
   "display_name": "Python 3",
   "language": "python",
   "name": "python3"
  },
  "language_info": {
   "codemirror_mode": {
    "name": "ipython",
    "version": 3
   },
   "file_extension": ".py",
   "mimetype": "text/x-python",
   "name": "python",
   "nbconvert_exporter": "python",
   "pygments_lexer": "ipython3",
   "version": "3.10.12"
  },
  "papermill": {
   "default_parameters": {},
   "duration": 6.184395,
   "end_time": "2023-12-10T23:41:15.003615",
   "environment_variables": {},
   "exception": null,
   "input_path": "__notebook__.ipynb",
   "output_path": "__notebook__.ipynb",
   "parameters": {},
   "start_time": "2023-12-10T23:41:08.819220",
   "version": "2.4.0"
  }
 },
 "nbformat": 4,
 "nbformat_minor": 5
}
