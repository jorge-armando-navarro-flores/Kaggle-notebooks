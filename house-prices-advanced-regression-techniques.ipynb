{
 "cells": [
  {
   "cell_type": "markdown",
   "id": "38cf4910",
   "metadata": {
    "papermill": {
     "duration": 0.008151,
     "end_time": "2023-12-10T22:40:08.469284",
     "exception": false,
     "start_time": "2023-12-10T22:40:08.461133",
     "status": "completed"
    },
    "tags": []
   },
   "source": [
    "# Setup"
   ]
  },
  {
   "cell_type": "code",
   "execution_count": 1,
   "id": "6daa3ba7",
   "metadata": {
    "_cell_guid": "b1076dfc-b9ad-4769-8c92-a6c4dae69d19",
    "_uuid": "8f2839f25d086af736a60e9eeb907d3b93b6e0e5",
    "execution": {
     "iopub.execute_input": "2023-12-10T22:40:08.487006Z",
     "iopub.status.busy": "2023-12-10T22:40:08.486173Z",
     "iopub.status.idle": "2023-12-10T22:40:08.501534Z",
     "shell.execute_reply": "2023-12-10T22:40:08.500471Z"
    },
    "papermill": {
     "duration": 0.027196,
     "end_time": "2023-12-10T22:40:08.504210",
     "exception": false,
     "start_time": "2023-12-10T22:40:08.477014",
     "status": "completed"
    },
    "tags": []
   },
   "outputs": [
    {
     "name": "stdout",
     "output_type": "stream",
     "text": [
      "/kaggle/input/house-prices-advanced-regression-techniques/sample_submission.csv\n",
      "/kaggle/input/house-prices-advanced-regression-techniques/data_description.txt\n",
      "/kaggle/input/house-prices-advanced-regression-techniques/train.csv\n",
      "/kaggle/input/house-prices-advanced-regression-techniques/test.csv\n"
     ]
    }
   ],
   "source": [
    "import os\n",
    "for dirname, _, filenames in os.walk('/kaggle/input'):\n",
    "    for filename in filenames:\n",
    "        print(os.path.join(dirname, filename))"
   ]
  },
  {
   "cell_type": "markdown",
   "id": "44133573",
   "metadata": {
    "papermill": {
     "duration": 0.007451,
     "end_time": "2023-12-10T22:40:08.519527",
     "exception": false,
     "start_time": "2023-12-10T22:40:08.512076",
     "status": "completed"
    },
    "tags": []
   },
   "source": [
    "## Import helpful libraries"
   ]
  },
  {
   "cell_type": "code",
   "execution_count": 2,
   "id": "6cdf3900",
   "metadata": {
    "execution": {
     "iopub.execute_input": "2023-12-10T22:40:08.537469Z",
     "iopub.status.busy": "2023-12-10T22:40:08.536409Z",
     "iopub.status.idle": "2023-12-10T22:40:10.731216Z",
     "shell.execute_reply": "2023-12-10T22:40:10.730131Z"
    },
    "papermill": {
     "duration": 2.20681,
     "end_time": "2023-12-10T22:40:10.734077",
     "exception": false,
     "start_time": "2023-12-10T22:40:08.527267",
     "status": "completed"
    },
    "tags": []
   },
   "outputs": [],
   "source": [
    "# Import helpful libraries\n",
    "import pandas as pd\n",
    "from sklearn.ensemble import RandomForestRegressor\n",
    "from sklearn.metrics import mean_absolute_error\n",
    "from sklearn.model_selection import train_test_split"
   ]
  },
  {
   "cell_type": "markdown",
   "id": "d953a477",
   "metadata": {
    "papermill": {
     "duration": 0.007426,
     "end_time": "2023-12-10T22:40:10.749361",
     "exception": false,
     "start_time": "2023-12-10T22:40:10.741935",
     "status": "completed"
    },
    "tags": []
   },
   "source": [
    "# Train a model with train data"
   ]
  },
  {
   "cell_type": "markdown",
   "id": "8980deb8",
   "metadata": {
    "papermill": {
     "duration": 0.007423,
     "end_time": "2023-12-10T22:40:10.764679",
     "exception": false,
     "start_time": "2023-12-10T22:40:10.757256",
     "status": "completed"
    },
    "tags": []
   },
   "source": [
    "## Load the data, and separate the target"
   ]
  },
  {
   "cell_type": "code",
   "execution_count": 3,
   "id": "a4542643",
   "metadata": {
    "execution": {
     "iopub.execute_input": "2023-12-10T22:40:10.782473Z",
     "iopub.status.busy": "2023-12-10T22:40:10.781935Z",
     "iopub.status.idle": "2023-12-10T22:40:10.844078Z",
     "shell.execute_reply": "2023-12-10T22:40:10.843223Z"
    },
    "papermill": {
     "duration": 0.07418,
     "end_time": "2023-12-10T22:40:10.846592",
     "exception": false,
     "start_time": "2023-12-10T22:40:10.772412",
     "status": "completed"
    },
    "tags": []
   },
   "outputs": [],
   "source": [
    "# Load the data, and separate the target\n",
    "iowa_file_path = '../input/house-prices-advanced-regression-techniques/train.csv'\n",
    "home_data = pd.read_csv(iowa_file_path)\n",
    "y = home_data.SalePrice"
   ]
  },
  {
   "cell_type": "markdown",
   "id": "01d0f22b",
   "metadata": {
    "papermill": {
     "duration": 0.007373,
     "end_time": "2023-12-10T22:40:10.861842",
     "exception": false,
     "start_time": "2023-12-10T22:40:10.854469",
     "status": "completed"
    },
    "tags": []
   },
   "source": [
    "## Create X with selected features"
   ]
  },
  {
   "cell_type": "code",
   "execution_count": 4,
   "id": "b23a4690",
   "metadata": {
    "execution": {
     "iopub.execute_input": "2023-12-10T22:40:10.879305Z",
     "iopub.status.busy": "2023-12-10T22:40:10.878699Z",
     "iopub.status.idle": "2023-12-10T22:40:10.905690Z",
     "shell.execute_reply": "2023-12-10T22:40:10.904322Z"
    },
    "papermill": {
     "duration": 0.038721,
     "end_time": "2023-12-10T22:40:10.908279",
     "exception": false,
     "start_time": "2023-12-10T22:40:10.869558",
     "status": "completed"
    },
    "tags": []
   },
   "outputs": [
    {
     "data": {
      "text/html": [
       "<div>\n",
       "<style scoped>\n",
       "    .dataframe tbody tr th:only-of-type {\n",
       "        vertical-align: middle;\n",
       "    }\n",
       "\n",
       "    .dataframe tbody tr th {\n",
       "        vertical-align: top;\n",
       "    }\n",
       "\n",
       "    .dataframe thead th {\n",
       "        text-align: right;\n",
       "    }\n",
       "</style>\n",
       "<table border=\"1\" class=\"dataframe\">\n",
       "  <thead>\n",
       "    <tr style=\"text-align: right;\">\n",
       "      <th></th>\n",
       "      <th>LotArea</th>\n",
       "      <th>YearBuilt</th>\n",
       "      <th>1stFlrSF</th>\n",
       "      <th>2ndFlrSF</th>\n",
       "      <th>FullBath</th>\n",
       "      <th>BedroomAbvGr</th>\n",
       "      <th>TotRmsAbvGrd</th>\n",
       "    </tr>\n",
       "  </thead>\n",
       "  <tbody>\n",
       "    <tr>\n",
       "      <th>0</th>\n",
       "      <td>8450</td>\n",
       "      <td>2003</td>\n",
       "      <td>856</td>\n",
       "      <td>854</td>\n",
       "      <td>2</td>\n",
       "      <td>3</td>\n",
       "      <td>8</td>\n",
       "    </tr>\n",
       "    <tr>\n",
       "      <th>1</th>\n",
       "      <td>9600</td>\n",
       "      <td>1976</td>\n",
       "      <td>1262</td>\n",
       "      <td>0</td>\n",
       "      <td>2</td>\n",
       "      <td>3</td>\n",
       "      <td>6</td>\n",
       "    </tr>\n",
       "    <tr>\n",
       "      <th>2</th>\n",
       "      <td>11250</td>\n",
       "      <td>2001</td>\n",
       "      <td>920</td>\n",
       "      <td>866</td>\n",
       "      <td>2</td>\n",
       "      <td>3</td>\n",
       "      <td>6</td>\n",
       "    </tr>\n",
       "    <tr>\n",
       "      <th>3</th>\n",
       "      <td>9550</td>\n",
       "      <td>1915</td>\n",
       "      <td>961</td>\n",
       "      <td>756</td>\n",
       "      <td>1</td>\n",
       "      <td>3</td>\n",
       "      <td>7</td>\n",
       "    </tr>\n",
       "    <tr>\n",
       "      <th>4</th>\n",
       "      <td>14260</td>\n",
       "      <td>2000</td>\n",
       "      <td>1145</td>\n",
       "      <td>1053</td>\n",
       "      <td>2</td>\n",
       "      <td>4</td>\n",
       "      <td>9</td>\n",
       "    </tr>\n",
       "  </tbody>\n",
       "</table>\n",
       "</div>"
      ],
      "text/plain": [
       "   LotArea  YearBuilt  1stFlrSF  2ndFlrSF  FullBath  BedroomAbvGr  \\\n",
       "0     8450       2003       856       854         2             3   \n",
       "1     9600       1976      1262         0         2             3   \n",
       "2    11250       2001       920       866         2             3   \n",
       "3     9550       1915       961       756         1             3   \n",
       "4    14260       2000      1145      1053         2             4   \n",
       "\n",
       "   TotRmsAbvGrd  \n",
       "0             8  \n",
       "1             6  \n",
       "2             6  \n",
       "3             7  \n",
       "4             9  "
      ]
     },
     "execution_count": 4,
     "metadata": {},
     "output_type": "execute_result"
    }
   ],
   "source": [
    "# Create X (After completing the exercise, you can return to modify this line!)\n",
    "features = ['LotArea', 'YearBuilt', '1stFlrSF', '2ndFlrSF', 'FullBath', 'BedroomAbvGr', 'TotRmsAbvGrd']\n",
    "\n",
    "# Select columns corresponding to features, and preview the data\n",
    "X = home_data[features]\n",
    "X.head()"
   ]
  },
  {
   "cell_type": "markdown",
   "id": "6f1b854c",
   "metadata": {
    "papermill": {
     "duration": 0.007789,
     "end_time": "2023-12-10T22:40:10.924223",
     "exception": false,
     "start_time": "2023-12-10T22:40:10.916434",
     "status": "completed"
    },
    "tags": []
   },
   "source": [
    "## Split into validation and training data"
   ]
  },
  {
   "cell_type": "code",
   "execution_count": 5,
   "id": "2b25d428",
   "metadata": {
    "execution": {
     "iopub.execute_input": "2023-12-10T22:40:10.942095Z",
     "iopub.status.busy": "2023-12-10T22:40:10.941718Z",
     "iopub.status.idle": "2023-12-10T22:40:10.948190Z",
     "shell.execute_reply": "2023-12-10T22:40:10.947131Z"
    },
    "papermill": {
     "duration": 0.018221,
     "end_time": "2023-12-10T22:40:10.950486",
     "exception": false,
     "start_time": "2023-12-10T22:40:10.932265",
     "status": "completed"
    },
    "tags": []
   },
   "outputs": [],
   "source": [
    "# Split into validation and training data\n",
    "train_X, val_X, train_y, val_y = train_test_split(X, y, random_state=1)"
   ]
  },
  {
   "cell_type": "markdown",
   "id": "f04f8fd6",
   "metadata": {
    "papermill": {
     "duration": 0.007778,
     "end_time": "2023-12-10T22:40:10.966302",
     "exception": false,
     "start_time": "2023-12-10T22:40:10.958524",
     "status": "completed"
    },
    "tags": []
   },
   "source": [
    "## Define the model"
   ]
  },
  {
   "cell_type": "code",
   "execution_count": 6,
   "id": "f759bb13",
   "metadata": {
    "execution": {
     "iopub.execute_input": "2023-12-10T22:40:10.984812Z",
     "iopub.status.busy": "2023-12-10T22:40:10.984162Z",
     "iopub.status.idle": "2023-12-10T22:40:11.519204Z",
     "shell.execute_reply": "2023-12-10T22:40:11.518003Z"
    },
    "papermill": {
     "duration": 0.54697,
     "end_time": "2023-12-10T22:40:11.521606",
     "exception": false,
     "start_time": "2023-12-10T22:40:10.974636",
     "status": "completed"
    },
    "tags": []
   },
   "outputs": [
    {
     "data": {
      "text/html": [
       "<style>#sk-container-id-1 {color: black;background-color: white;}#sk-container-id-1 pre{padding: 0;}#sk-container-id-1 div.sk-toggleable {background-color: white;}#sk-container-id-1 label.sk-toggleable__label {cursor: pointer;display: block;width: 100%;margin-bottom: 0;padding: 0.3em;box-sizing: border-box;text-align: center;}#sk-container-id-1 label.sk-toggleable__label-arrow:before {content: \"▸\";float: left;margin-right: 0.25em;color: #696969;}#sk-container-id-1 label.sk-toggleable__label-arrow:hover:before {color: black;}#sk-container-id-1 div.sk-estimator:hover label.sk-toggleable__label-arrow:before {color: black;}#sk-container-id-1 div.sk-toggleable__content {max-height: 0;max-width: 0;overflow: hidden;text-align: left;background-color: #f0f8ff;}#sk-container-id-1 div.sk-toggleable__content pre {margin: 0.2em;color: black;border-radius: 0.25em;background-color: #f0f8ff;}#sk-container-id-1 input.sk-toggleable__control:checked~div.sk-toggleable__content {max-height: 200px;max-width: 100%;overflow: auto;}#sk-container-id-1 input.sk-toggleable__control:checked~label.sk-toggleable__label-arrow:before {content: \"▾\";}#sk-container-id-1 div.sk-estimator input.sk-toggleable__control:checked~label.sk-toggleable__label {background-color: #d4ebff;}#sk-container-id-1 div.sk-label input.sk-toggleable__control:checked~label.sk-toggleable__label {background-color: #d4ebff;}#sk-container-id-1 input.sk-hidden--visually {border: 0;clip: rect(1px 1px 1px 1px);clip: rect(1px, 1px, 1px, 1px);height: 1px;margin: -1px;overflow: hidden;padding: 0;position: absolute;width: 1px;}#sk-container-id-1 div.sk-estimator {font-family: monospace;background-color: #f0f8ff;border: 1px dotted black;border-radius: 0.25em;box-sizing: border-box;margin-bottom: 0.5em;}#sk-container-id-1 div.sk-estimator:hover {background-color: #d4ebff;}#sk-container-id-1 div.sk-parallel-item::after {content: \"\";width: 100%;border-bottom: 1px solid gray;flex-grow: 1;}#sk-container-id-1 div.sk-label:hover label.sk-toggleable__label {background-color: #d4ebff;}#sk-container-id-1 div.sk-serial::before {content: \"\";position: absolute;border-left: 1px solid gray;box-sizing: border-box;top: 0;bottom: 0;left: 50%;z-index: 0;}#sk-container-id-1 div.sk-serial {display: flex;flex-direction: column;align-items: center;background-color: white;padding-right: 0.2em;padding-left: 0.2em;position: relative;}#sk-container-id-1 div.sk-item {position: relative;z-index: 1;}#sk-container-id-1 div.sk-parallel {display: flex;align-items: stretch;justify-content: center;background-color: white;position: relative;}#sk-container-id-1 div.sk-item::before, #sk-container-id-1 div.sk-parallel-item::before {content: \"\";position: absolute;border-left: 1px solid gray;box-sizing: border-box;top: 0;bottom: 0;left: 50%;z-index: -1;}#sk-container-id-1 div.sk-parallel-item {display: flex;flex-direction: column;z-index: 1;position: relative;background-color: white;}#sk-container-id-1 div.sk-parallel-item:first-child::after {align-self: flex-end;width: 50%;}#sk-container-id-1 div.sk-parallel-item:last-child::after {align-self: flex-start;width: 50%;}#sk-container-id-1 div.sk-parallel-item:only-child::after {width: 0;}#sk-container-id-1 div.sk-dashed-wrapped {border: 1px dashed gray;margin: 0 0.4em 0.5em 0.4em;box-sizing: border-box;padding-bottom: 0.4em;background-color: white;}#sk-container-id-1 div.sk-label label {font-family: monospace;font-weight: bold;display: inline-block;line-height: 1.2em;}#sk-container-id-1 div.sk-label-container {text-align: center;}#sk-container-id-1 div.sk-container {/* jupyter's `normalize.less` sets `[hidden] { display: none; }` but bootstrap.min.css set `[hidden] { display: none !important; }` so we also need the `!important` here to be able to override the default hidden behavior on the sphinx rendered scikit-learn.org. See: https://github.com/scikit-learn/scikit-learn/issues/21755 */display: inline-block !important;position: relative;}#sk-container-id-1 div.sk-text-repr-fallback {display: none;}</style><div id=\"sk-container-id-1\" class=\"sk-top-container\"><div class=\"sk-text-repr-fallback\"><pre>RandomForestRegressor(random_state=1)</pre><b>In a Jupyter environment, please rerun this cell to show the HTML representation or trust the notebook. <br />On GitHub, the HTML representation is unable to render, please try loading this page with nbviewer.org.</b></div><div class=\"sk-container\" hidden><div class=\"sk-item\"><div class=\"sk-estimator sk-toggleable\"><input class=\"sk-toggleable__control sk-hidden--visually\" id=\"sk-estimator-id-1\" type=\"checkbox\" checked><label for=\"sk-estimator-id-1\" class=\"sk-toggleable__label sk-toggleable__label-arrow\">RandomForestRegressor</label><div class=\"sk-toggleable__content\"><pre>RandomForestRegressor(random_state=1)</pre></div></div></div></div></div>"
      ],
      "text/plain": [
       "RandomForestRegressor(random_state=1)"
      ]
     },
     "execution_count": 6,
     "metadata": {},
     "output_type": "execute_result"
    }
   ],
   "source": [
    "# Define a random forest model\n",
    "rf_model = RandomForestRegressor(random_state=1)\n",
    "# Train the model\n",
    "rf_model.fit(train_X, train_y)"
   ]
  },
  {
   "cell_type": "markdown",
   "id": "6f45e1f9",
   "metadata": {
    "papermill": {
     "duration": 0.008156,
     "end_time": "2023-12-10T22:40:11.538210",
     "exception": false,
     "start_time": "2023-12-10T22:40:11.530054",
     "status": "completed"
    },
    "tags": []
   },
   "source": [
    "## Evaluate the model"
   ]
  },
  {
   "cell_type": "code",
   "execution_count": 7,
   "id": "8d6b9f82",
   "metadata": {
    "execution": {
     "iopub.execute_input": "2023-12-10T22:40:11.556920Z",
     "iopub.status.busy": "2023-12-10T22:40:11.556461Z",
     "iopub.status.idle": "2023-12-10T22:40:11.578572Z",
     "shell.execute_reply": "2023-12-10T22:40:11.577095Z"
    },
    "papermill": {
     "duration": 0.034421,
     "end_time": "2023-12-10T22:40:11.581178",
     "exception": false,
     "start_time": "2023-12-10T22:40:11.546757",
     "status": "completed"
    },
    "tags": []
   },
   "outputs": [
    {
     "name": "stdout",
     "output_type": "stream",
     "text": [
      "Validation MAE for Random Forest Model: 21,857\n"
     ]
    }
   ],
   "source": [
    "rf_val_predictions = rf_model.predict(val_X)\n",
    "rf_val_mae = mean_absolute_error(rf_val_predictions, val_y)\n",
    "\n",
    "print(\"Validation MAE for Random Forest Model: {:,.0f}\".format(rf_val_mae))"
   ]
  },
  {
   "cell_type": "markdown",
   "id": "4ee9d069",
   "metadata": {
    "papermill": {
     "duration": 0.008091,
     "end_time": "2023-12-10T22:40:11.597853",
     "exception": false,
     "start_time": "2023-12-10T22:40:11.589762",
     "status": "completed"
    },
    "tags": []
   },
   "source": [
    "# Train a model for the competition (full data)"
   ]
  },
  {
   "cell_type": "code",
   "execution_count": 8,
   "id": "5c3290a5",
   "metadata": {
    "execution": {
     "iopub.execute_input": "2023-12-10T22:40:11.617548Z",
     "iopub.status.busy": "2023-12-10T22:40:11.617130Z",
     "iopub.status.idle": "2023-12-10T22:40:12.290172Z",
     "shell.execute_reply": "2023-12-10T22:40:12.289123Z"
    },
    "papermill": {
     "duration": 0.685536,
     "end_time": "2023-12-10T22:40:12.292750",
     "exception": false,
     "start_time": "2023-12-10T22:40:11.607214",
     "status": "completed"
    },
    "tags": []
   },
   "outputs": [
    {
     "data": {
      "text/html": [
       "<style>#sk-container-id-2 {color: black;background-color: white;}#sk-container-id-2 pre{padding: 0;}#sk-container-id-2 div.sk-toggleable {background-color: white;}#sk-container-id-2 label.sk-toggleable__label {cursor: pointer;display: block;width: 100%;margin-bottom: 0;padding: 0.3em;box-sizing: border-box;text-align: center;}#sk-container-id-2 label.sk-toggleable__label-arrow:before {content: \"▸\";float: left;margin-right: 0.25em;color: #696969;}#sk-container-id-2 label.sk-toggleable__label-arrow:hover:before {color: black;}#sk-container-id-2 div.sk-estimator:hover label.sk-toggleable__label-arrow:before {color: black;}#sk-container-id-2 div.sk-toggleable__content {max-height: 0;max-width: 0;overflow: hidden;text-align: left;background-color: #f0f8ff;}#sk-container-id-2 div.sk-toggleable__content pre {margin: 0.2em;color: black;border-radius: 0.25em;background-color: #f0f8ff;}#sk-container-id-2 input.sk-toggleable__control:checked~div.sk-toggleable__content {max-height: 200px;max-width: 100%;overflow: auto;}#sk-container-id-2 input.sk-toggleable__control:checked~label.sk-toggleable__label-arrow:before {content: \"▾\";}#sk-container-id-2 div.sk-estimator input.sk-toggleable__control:checked~label.sk-toggleable__label {background-color: #d4ebff;}#sk-container-id-2 div.sk-label input.sk-toggleable__control:checked~label.sk-toggleable__label {background-color: #d4ebff;}#sk-container-id-2 input.sk-hidden--visually {border: 0;clip: rect(1px 1px 1px 1px);clip: rect(1px, 1px, 1px, 1px);height: 1px;margin: -1px;overflow: hidden;padding: 0;position: absolute;width: 1px;}#sk-container-id-2 div.sk-estimator {font-family: monospace;background-color: #f0f8ff;border: 1px dotted black;border-radius: 0.25em;box-sizing: border-box;margin-bottom: 0.5em;}#sk-container-id-2 div.sk-estimator:hover {background-color: #d4ebff;}#sk-container-id-2 div.sk-parallel-item::after {content: \"\";width: 100%;border-bottom: 1px solid gray;flex-grow: 1;}#sk-container-id-2 div.sk-label:hover label.sk-toggleable__label {background-color: #d4ebff;}#sk-container-id-2 div.sk-serial::before {content: \"\";position: absolute;border-left: 1px solid gray;box-sizing: border-box;top: 0;bottom: 0;left: 50%;z-index: 0;}#sk-container-id-2 div.sk-serial {display: flex;flex-direction: column;align-items: center;background-color: white;padding-right: 0.2em;padding-left: 0.2em;position: relative;}#sk-container-id-2 div.sk-item {position: relative;z-index: 1;}#sk-container-id-2 div.sk-parallel {display: flex;align-items: stretch;justify-content: center;background-color: white;position: relative;}#sk-container-id-2 div.sk-item::before, #sk-container-id-2 div.sk-parallel-item::before {content: \"\";position: absolute;border-left: 1px solid gray;box-sizing: border-box;top: 0;bottom: 0;left: 50%;z-index: -1;}#sk-container-id-2 div.sk-parallel-item {display: flex;flex-direction: column;z-index: 1;position: relative;background-color: white;}#sk-container-id-2 div.sk-parallel-item:first-child::after {align-self: flex-end;width: 50%;}#sk-container-id-2 div.sk-parallel-item:last-child::after {align-self: flex-start;width: 50%;}#sk-container-id-2 div.sk-parallel-item:only-child::after {width: 0;}#sk-container-id-2 div.sk-dashed-wrapped {border: 1px dashed gray;margin: 0 0.4em 0.5em 0.4em;box-sizing: border-box;padding-bottom: 0.4em;background-color: white;}#sk-container-id-2 div.sk-label label {font-family: monospace;font-weight: bold;display: inline-block;line-height: 1.2em;}#sk-container-id-2 div.sk-label-container {text-align: center;}#sk-container-id-2 div.sk-container {/* jupyter's `normalize.less` sets `[hidden] { display: none; }` but bootstrap.min.css set `[hidden] { display: none !important; }` so we also need the `!important` here to be able to override the default hidden behavior on the sphinx rendered scikit-learn.org. See: https://github.com/scikit-learn/scikit-learn/issues/21755 */display: inline-block !important;position: relative;}#sk-container-id-2 div.sk-text-repr-fallback {display: none;}</style><div id=\"sk-container-id-2\" class=\"sk-top-container\"><div class=\"sk-text-repr-fallback\"><pre>RandomForestRegressor()</pre><b>In a Jupyter environment, please rerun this cell to show the HTML representation or trust the notebook. <br />On GitHub, the HTML representation is unable to render, please try loading this page with nbviewer.org.</b></div><div class=\"sk-container\" hidden><div class=\"sk-item\"><div class=\"sk-estimator sk-toggleable\"><input class=\"sk-toggleable__control sk-hidden--visually\" id=\"sk-estimator-id-2\" type=\"checkbox\" checked><label for=\"sk-estimator-id-2\" class=\"sk-toggleable__label sk-toggleable__label-arrow\">RandomForestRegressor</label><div class=\"sk-toggleable__content\"><pre>RandomForestRegressor()</pre></div></div></div></div></div>"
      ],
      "text/plain": [
       "RandomForestRegressor()"
      ]
     },
     "execution_count": 8,
     "metadata": {},
     "output_type": "execute_result"
    }
   ],
   "source": [
    "# Define model\n",
    "rf_model_on_full_data = RandomForestRegressor()\n",
    "\n",
    "# Train model\n",
    "rf_model_on_full_data.fit(X, y)"
   ]
  },
  {
   "cell_type": "markdown",
   "id": "d047e2f2",
   "metadata": {
    "papermill": {
     "duration": 0.008276,
     "end_time": "2023-12-10T22:40:12.309698",
     "exception": false,
     "start_time": "2023-12-10T22:40:12.301422",
     "status": "completed"
    },
    "tags": []
   },
   "source": [
    "## Load the test data"
   ]
  },
  {
   "cell_type": "code",
   "execution_count": 9,
   "id": "cea9e5b3",
   "metadata": {
    "execution": {
     "iopub.execute_input": "2023-12-10T22:40:12.329099Z",
     "iopub.status.busy": "2023-12-10T22:40:12.328645Z",
     "iopub.status.idle": "2023-12-10T22:40:12.373841Z",
     "shell.execute_reply": "2023-12-10T22:40:12.372674Z"
    },
    "papermill": {
     "duration": 0.058279,
     "end_time": "2023-12-10T22:40:12.376922",
     "exception": false,
     "start_time": "2023-12-10T22:40:12.318643",
     "status": "completed"
    },
    "tags": []
   },
   "outputs": [],
   "source": [
    "# path to file you will use for predictions\n",
    "test_data_path = '../input/house-prices-advanced-regression-techniques/test.csv'\n",
    "\n",
    "# read test data file using pandas\n",
    "test_data = pd.read_csv(test_data_path)"
   ]
  },
  {
   "cell_type": "markdown",
   "id": "339c9c2a",
   "metadata": {
    "papermill": {
     "duration": 0.008282,
     "end_time": "2023-12-10T22:40:12.393966",
     "exception": false,
     "start_time": "2023-12-10T22:40:12.385684",
     "status": "completed"
    },
    "tags": []
   },
   "source": [
    "## Create test X with selected features"
   ]
  },
  {
   "cell_type": "code",
   "execution_count": 10,
   "id": "44c088fc",
   "metadata": {
    "execution": {
     "iopub.execute_input": "2023-12-10T22:40:12.413666Z",
     "iopub.status.busy": "2023-12-10T22:40:12.412831Z",
     "iopub.status.idle": "2023-12-10T22:40:12.419181Z",
     "shell.execute_reply": "2023-12-10T22:40:12.418021Z"
    },
    "papermill": {
     "duration": 0.018868,
     "end_time": "2023-12-10T22:40:12.421897",
     "exception": false,
     "start_time": "2023-12-10T22:40:12.403029",
     "status": "completed"
    },
    "tags": []
   },
   "outputs": [],
   "source": [
    "# create test_X which comes from test_data but includes only the columns you used for prediction.\n",
    "# The list of columns is stored in a variable called features\n",
    "test_X = test_data[features]"
   ]
  },
  {
   "cell_type": "markdown",
   "id": "a132c6b8",
   "metadata": {
    "papermill": {
     "duration": 0.008473,
     "end_time": "2023-12-10T22:40:12.439019",
     "exception": false,
     "start_time": "2023-12-10T22:40:12.430546",
     "status": "completed"
    },
    "tags": []
   },
   "source": [
    "## Make predictions"
   ]
  },
  {
   "cell_type": "code",
   "execution_count": 11,
   "id": "ac7a89df",
   "metadata": {
    "execution": {
     "iopub.execute_input": "2023-12-10T22:40:12.458397Z",
     "iopub.status.busy": "2023-12-10T22:40:12.457563Z",
     "iopub.status.idle": "2023-12-10T22:40:12.494534Z",
     "shell.execute_reply": "2023-12-10T22:40:12.493575Z"
    },
    "papermill": {
     "duration": 0.049548,
     "end_time": "2023-12-10T22:40:12.497256",
     "exception": false,
     "start_time": "2023-12-10T22:40:12.447708",
     "status": "completed"
    },
    "tags": []
   },
   "outputs": [],
   "source": [
    "# make predictions which we will submit. \n",
    "test_preds = rf_model_on_full_data.predict(test_X)"
   ]
  },
  {
   "cell_type": "markdown",
   "id": "97145b3e",
   "metadata": {
    "papermill": {
     "duration": 0.008181,
     "end_time": "2023-12-10T22:40:12.514143",
     "exception": false,
     "start_time": "2023-12-10T22:40:12.505962",
     "status": "completed"
    },
    "tags": []
   },
   "source": [
    "## Generate a submission"
   ]
  },
  {
   "cell_type": "code",
   "execution_count": 12,
   "id": "4ed5dcec",
   "metadata": {
    "execution": {
     "iopub.execute_input": "2023-12-10T22:40:12.533022Z",
     "iopub.status.busy": "2023-12-10T22:40:12.532600Z",
     "iopub.status.idle": "2023-12-10T22:40:12.547100Z",
     "shell.execute_reply": "2023-12-10T22:40:12.545962Z"
    },
    "papermill": {
     "duration": 0.027304,
     "end_time": "2023-12-10T22:40:12.550123",
     "exception": false,
     "start_time": "2023-12-10T22:40:12.522819",
     "status": "completed"
    },
    "tags": []
   },
   "outputs": [],
   "source": [
    "# Run the code to save predictions in the format used for competition scoring\n",
    "\n",
    "output = pd.DataFrame({'Id': test_data.Id,\n",
    "                       'SalePrice': test_preds})\n",
    "output.to_csv('submission.csv', index=False)"
   ]
  },
  {
   "cell_type": "code",
   "execution_count": null,
   "id": "1fea5911",
   "metadata": {
    "papermill": {
     "duration": 0.008256,
     "end_time": "2023-12-10T22:40:12.566938",
     "exception": false,
     "start_time": "2023-12-10T22:40:12.558682",
     "status": "completed"
    },
    "tags": []
   },
   "outputs": [],
   "source": []
  }
 ],
 "metadata": {
  "kaggle": {
   "accelerator": "none",
   "dataSources": [
    {
     "databundleVersionId": 868283,
     "sourceId": 5407,
     "sourceType": "competition"
    }
   ],
   "dockerImageVersionId": 30615,
   "isGpuEnabled": false,
   "isInternetEnabled": true,
   "language": "python",
   "sourceType": "notebook"
  },
  "kernelspec": {
   "display_name": "Python 3",
   "language": "python",
   "name": "python3"
  },
  "language_info": {
   "codemirror_mode": {
    "name": "ipython",
    "version": 3
   },
   "file_extension": ".py",
   "mimetype": "text/x-python",
   "name": "python",
   "nbconvert_exporter": "python",
   "pygments_lexer": "ipython3",
   "version": "3.10.12"
  },
  "papermill": {
   "default_parameters": {},
   "duration": 8.323336,
   "end_time": "2023-12-10T22:40:13.198812",
   "environment_variables": {},
   "exception": null,
   "input_path": "__notebook__.ipynb",
   "output_path": "__notebook__.ipynb",
   "parameters": {},
   "start_time": "2023-12-10T22:40:04.875476",
   "version": "2.4.0"
  }
 },
 "nbformat": 4,
 "nbformat_minor": 5
}
